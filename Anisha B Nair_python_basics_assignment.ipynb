{
 "cells": [
  {
   "cell_type": "markdown",
   "id": "d2328cad",
   "metadata": {},
   "source": [
    "# Python Basics Assignment\n",
    "\n",
    "This notebook contains 20 basic Python questions.  \n",
    "Each question carries **1 mark**. Write your answer in the cell provided.  \n"
   ]
  },
  {
   "cell_type": "markdown",
   "id": "cb537954",
   "metadata": {},
   "source": [
    "### Question 1\n",
    "Write a function that returns the square of a number."
   ]
  },
  {
   "cell_type": "code",
   "execution_count": 305,
   "id": "cf213ba2",
   "metadata": {},
   "outputs": [],
   "source": [
    "\n",
    "def your_function_1(x):\n",
    "    return x*x"
   ]
  },
  {
   "cell_type": "markdown",
   "id": "4eaff430",
   "metadata": {},
   "source": [
    "### Question 2\n",
    "Write a function that checks whether a number is even."
   ]
  },
  {
   "cell_type": "code",
   "execution_count": 306,
   "id": "81934cf7",
   "metadata": {},
   "outputs": [],
   "source": [
    "\n",
    "def your_function_2(x):\n",
    "    return x % 2 == 0"
   ]
  },
  {
   "cell_type": "markdown",
   "id": "5f061e50",
   "metadata": {},
   "source": [
    "### Question 3\n",
    "Write a function to return the maximum of two numbers."
   ]
  },
  {
   "cell_type": "code",
   "execution_count": 307,
   "id": "44e2a596",
   "metadata": {},
   "outputs": [],
   "source": [
    "\n",
    "def your_function_3(a , b):\n",
    "    if a > b :\n",
    "        return a\n",
    "    else :\n",
    "        return b "
   ]
  },
  {
   "cell_type": "markdown",
   "id": "7513ca91",
   "metadata": {},
   "source": [
    "### Question 4\n",
    "Write a function to return the factorial of a number."
   ]
  },
  {
   "cell_type": "code",
   "execution_count": 308,
   "id": "6617842f",
   "metadata": {},
   "outputs": [],
   "source": [
    "\n",
    "def your_function_4(n):\n",
    "    if n == 0 or n == 1:\n",
    "        return 1\n",
    "    else :\n",
    "        return n * your_function_4(n - 1)\n"
   ]
  },
  {
   "cell_type": "markdown",
   "id": "9b942098",
   "metadata": {},
   "source": [
    "### Question 5\n",
    "Write a function to reverse a string."
   ]
  },
  {
   "cell_type": "code",
   "execution_count": 309,
   "id": "d606b194",
   "metadata": {},
   "outputs": [],
   "source": [
    "\n",
    "def your_function_5(s):\n",
    "    return s[ ::-1]"
   ]
  },
  {
   "cell_type": "markdown",
   "id": "1abd915b",
   "metadata": {},
   "source": [
    "### Question 6\n",
    "Write a function to check if a string is a palindrome."
   ]
  },
  {
   "cell_type": "code",
   "execution_count": 310,
   "id": "2b868fb3",
   "metadata": {},
   "outputs": [],
   "source": [
    "\n",
    "def your_function_6(s):\n",
    "    return s == s[::-1]"
   ]
  },
  {
   "cell_type": "markdown",
   "id": "5f2f3791",
   "metadata": {},
   "source": [
    "### Question 7\n",
    "Write a function to count vowels in a string."
   ]
  },
  {
   "cell_type": "code",
   "execution_count": 311,
   "id": "73fefa50",
   "metadata": {},
   "outputs": [],
   "source": [
    "\n",
    "def your_function_7(s):\n",
    "    vowels = \"aeiouAEIOU\"\n",
    "    Count = 0\n",
    "    for char in s:\n",
    "        if char in vowels :\n",
    "            Count += 1\n",
    "    return Count       "
   ]
  },
  {
   "cell_type": "markdown",
   "id": "0d3a9996",
   "metadata": {},
   "source": [
    "### Question 8\n",
    "Write a function that returns the sum of a list."
   ]
  },
  {
   "cell_type": "code",
   "execution_count": 312,
   "id": "ab6afc66",
   "metadata": {},
   "outputs": [],
   "source": [
    "\n",
    "def your_function_8(numbers):\n",
    "    if not numbers :\n",
    "        return None #Return None if the list is empty\n",
    "    smallest = numbers[0]\n",
    "    for num in numbers :\n",
    "         smallest = num\n",
    "    return smallest"
   ]
  },
  {
   "cell_type": "markdown",
   "id": "f6682500",
   "metadata": {},
   "source": [
    "### Question 9\n",
    "Write a function to find the smallest number in a list."
   ]
  },
  {
   "cell_type": "code",
   "execution_count": 313,
   "id": "6798a641",
   "metadata": {},
   "outputs": [],
   "source": [
    "\n",
    "def your_function_9(lst):\n",
    "    if not lst :\n",
    "        return None # Return None if the list is empty\n",
    "    return min (lst)"
   ]
  },
  {
   "cell_type": "markdown",
   "id": "fb11e683",
   "metadata": {},
   "source": [
    "### Question 10\n",
    "Write a function to remove duplicates from a list."
   ]
  },
  {
   "cell_type": "code",
   "execution_count": 314,
   "id": "7c53f88c",
   "metadata": {},
   "outputs": [],
   "source": [
    "\n",
    "def your_function_10(lst):\n",
    "    return list(set(lst))"
   ]
  },
  {
   "cell_type": "markdown",
   "id": "9c380a5c",
   "metadata": {},
   "source": [
    "### Question 11\n",
    "Write a function to sort a list in ascending order."
   ]
  },
  {
   "cell_type": "code",
   "execution_count": 315,
   "id": "8e43832f",
   "metadata": {},
   "outputs": [],
   "source": [
    "\n",
    "def your_function_11(lst):\n",
    "    return sorted(lst)"
   ]
  },
  {
   "cell_type": "markdown",
   "id": "1270c91c",
   "metadata": {},
   "source": [
    "### Question 12\n",
    "Write a function that returns the length of a string."
   ]
  },
  {
   "cell_type": "code",
   "execution_count": 316,
   "id": "87f35472",
   "metadata": {},
   "outputs": [],
   "source": [
    "\n",
    "def your_function_12(s):\n",
    "    return len(s)"
   ]
  },
  {
   "cell_type": "markdown",
   "id": "9a8e3d28",
   "metadata": {},
   "source": [
    "### Question 13\n",
    "Write a function to count words in a sentence."
   ]
  },
  {
   "cell_type": "code",
   "execution_count": 317,
   "id": "e6f996ef",
   "metadata": {},
   "outputs": [],
   "source": [
    "\n",
    "def your_function_13(sentence):\n",
    "    words = sentence.split()\n",
    "    return len(words)"
   ]
  },
  {
   "cell_type": "markdown",
   "id": "430c2e4a",
   "metadata": {},
   "source": [
    "### Question 14\n",
    "Write a function to convert Celsius to Fahrenheit."
   ]
  },
  {
   "cell_type": "code",
   "execution_count": 318,
   "id": "b710b0bd",
   "metadata": {},
   "outputs": [],
   "source": [
    "\n",
    "def your_function_14(celsius):\n",
    "    fahrenheit = (celsius * 9/5) + 32\n",
    "    return fahrenheit"
   ]
  },
  {
   "cell_type": "markdown",
   "id": "acefe5e3",
   "metadata": {},
   "source": [
    "### Question 15\n",
    "Write a function to check if a number is prime."
   ]
  },
  {
   "cell_type": "code",
   "execution_count": 319,
   "id": "b700abae",
   "metadata": {},
   "outputs": [],
   "source": [
    "\n",
    "def your_function_15(number):\n",
    "    if number <= 1:\n",
    "        return False\n",
    "    for i in range(2, int(number ** 0.5) + 1):\n",
    "        if number % i == 0:\n",
    "            return False\n",
    "        return True"
   ]
  },
  {
   "cell_type": "markdown",
   "id": "b63452cb",
   "metadata": {},
   "source": [
    "### Question 16\n",
    "Write a function to return all even numbers in a list."
   ]
  },
  {
   "cell_type": "code",
   "execution_count": 320,
   "id": "9d1fc968",
   "metadata": {},
   "outputs": [],
   "source": [
    "\n",
    "def your_function_16(numbers):\n",
    "    even_numbers = [num for num in numbers if num % 2 == 0]\n",
    "    return even_numbers"
   ]
  },
  {
   "cell_type": "markdown",
   "id": "aca524d9",
   "metadata": {},
   "source": [
    "### Question 17\n",
    "Write a function to return the nth Fibonacci number."
   ]
  },
  {
   "cell_type": "code",
   "execution_count": 321,
   "id": "97dc4e87",
   "metadata": {},
   "outputs": [],
   "source": [
    "\n",
    "def your_function_17(n):\n",
    "    if n < 0:\n",
    "        return \"Invalid input\"\n",
    "    elif n == 1:\n",
    "        return 0\n",
    "    elif n == 2:\n",
    "        return 1\n",
    "    a , b = 0, 1\n",
    "    for _ in range(2,n):\n",
    "        a, b = b, a + b \n",
    "        return b"
   ]
  },
  {
   "cell_type": "markdown",
   "id": "29c847dc",
   "metadata": {},
   "source": [
    "### Question 18\n",
    "Write a function to calculate the average of a list."
   ]
  },
  {
   "cell_type": "code",
   "execution_count": 322,
   "id": "9adc9fd2",
   "metadata": {},
   "outputs": [],
   "source": [
    "\n",
    "def your_function_18(numbers):\n",
    "    if not numbers:\n",
    "        return 0 # or return \"List is empty\" \n",
    "    return sum(numbers) / len(numbers)"
   ]
  },
  {
   "cell_type": "markdown",
   "id": "420240fb",
   "metadata": {},
   "source": [
    "### Question 19\n",
    "Write a function that returns a dictionary of character counts."
   ]
  },
  {
   "cell_type": "code",
   "execution_count": 323,
   "id": "95cafc54",
   "metadata": {},
   "outputs": [],
   "source": [
    "\n",
    "def your_function_19(s):\n",
    "    char_count ={}\n",
    "    for char in s:\n",
    "        if char in char_count :\n",
    "            char_count[char] += 1\n",
    "        else:\n",
    "            char_count[char] = 1\n",
    "    return char_count        "
   ]
  },
  {
   "cell_type": "markdown",
   "id": "17629a07",
   "metadata": {},
   "source": [
    "### Question 20\n",
    "Write a function that returns True if all list elements are unique."
   ]
  },
  {
   "cell_type": "code",
   "execution_count": 324,
   "id": "fe4f8820",
   "metadata": {},
   "outputs": [],
   "source": [
    "\n",
    "def your_function_20(lst):\n",
    "    return len(lst) == len(set(lst))"
   ]
  }
 ],
 "metadata": {
  "kernelspec": {
   "display_name": "Python 3",
   "language": "python",
   "name": "python3"
  },
  "language_info": {
   "codemirror_mode": {
    "name": "ipython",
    "version": 3
   },
   "file_extension": ".py",
   "mimetype": "text/x-python",
   "name": "python",
   "nbconvert_exporter": "python",
   "pygments_lexer": "ipython3",
   "version": "3.13.2"
  }
 },
 "nbformat": 4,
 "nbformat_minor": 5
}
