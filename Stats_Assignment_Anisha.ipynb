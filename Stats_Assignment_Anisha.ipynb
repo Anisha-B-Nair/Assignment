{
 "cells": [
  {
   "cell_type": "markdown",
   "id": "78622873",
   "metadata": {},
   "source": [
    "# Assignment: Descriptive and Inferential Statistics Using Python\n",
    "\n",
    "This Jupyter notebook contains solutions for:\n",
    "- Measures of Central Tendency\n",
    "- Quartiles and Percentiles\n",
    "- Interquartile Range (IQR)\n",
    "- Min & Max\n",
    "- Outlier Detection\n",
    "- Measures of Dispersion\n",
    "- Z-score Standardization\n",
    "- Correlation Coefficient\n",
    "\n",
    "**Dataset used:** `data = [12, 15, 14, 10, 18, 20, 22, 24, 17, 19]`"
   ]
  },
  {
   "cell_type": "code",
   "execution_count": 22,
   "id": "6257fda3",
   "metadata": {},
   "outputs": [],
   "source": [
    "import numpy as np\n",
    "import pandas as pd\n",
    "from collections import Counter\n",
    "from scipy import stats as scipy_stats\n",
    "\n",
    "# Dataset\n",
    "data = [12, 15, 14, 10, 18, 20, 22, 24, 17, 19]"
   ]
  },
  {
   "cell_type": "code",
   "execution_count": 23,
   "id": "d86434dc",
   "metadata": {},
   "outputs": [
    {
     "name": "stdout",
     "output_type": "stream",
     "text": [
      "Mean: 17.1\n",
      "Median: 17.5\n",
      "Mode: No mode\n"
     ]
    }
   ],
   "source": [
    "# 1. Measures of Central Tendency\n",
    "mean = np.mean(data)\n",
    "median = np.median(data)\n",
    "\n",
    "# Mode using Counter\n",
    "counts = Counter(data)\n",
    "max_freq = max(counts.values())\n",
    "\n",
    "if max_freq > 1:\n",
    "    mode = [val for val, freq in counts.items() if freq == max_freq]\n",
    "else:\n",
    "    mode = \"No mode\"\n",
    "\n",
    "print(\"Mean:\", mean)\n",
    "print(\"Median:\", median)\n",
    "print(\"Mode:\", mode)"
   ]
  },
  {
   "cell_type": "code",
   "execution_count": 4,
   "id": "f569f08b",
   "metadata": {},
   "outputs": [
    {
     "name": "stdout",
     "output_type": "stream",
     "text": [
      "Q1 (25th percentile): 14.25\n",
      "Q2 (50th percentile): 17.5\n",
      "Q3 (75th percentile): 19.75\n"
     ]
    }
   ],
   "source": [
    "# 2. Percentiles and Quartiles\n",
    "q1 = np.percentile(data, 25)\n",
    "q2 = np.percentile(data, 50)\n",
    "q3 = np.percentile(data, 75)\n",
    "\n",
    "print(\"Q1 (25th percentile):\", q1)\n",
    "print(\"Q2 (50th percentile):\", q2)\n",
    "print(\"Q3 (75th percentile):\", q3)\n"
   ]
  },
  {
   "cell_type": "code",
   "execution_count": 5,
   "id": "aef1ad8c",
   "metadata": {},
   "outputs": [
    {
     "name": "stdout",
     "output_type": "stream",
     "text": [
      "IQR: 5.5\n"
     ]
    }
   ],
   "source": [
    "# 3. Interquartile Range (IQR)\n",
    "iqr = q3 - q1\n",
    "print(\"IQR:\", iqr)\n"
   ]
  },
  {
   "cell_type": "code",
   "execution_count": 6,
   "id": "ac07a0db",
   "metadata": {},
   "outputs": [
    {
     "name": "stdout",
     "output_type": "stream",
     "text": [
      "Min: 10\n",
      "Max: 24\n"
     ]
    }
   ],
   "source": [
    "# 4. Min and Max\n",
    "min_val = min(data)\n",
    "max_val = max(data)\n",
    "print(\"Min:\", min_val)\n",
    "print(\"Max:\", max_val)\n"
   ]
  },
  {
   "cell_type": "code",
   "execution_count": 7,
   "id": "e6d34f91",
   "metadata": {},
   "outputs": [
    {
     "name": "stdout",
     "output_type": "stream",
     "text": [
      "Lower Bound: 6.0\n",
      "Upper Bound: 28.0\n",
      "Outliers: []\n"
     ]
    }
   ],
   "source": [
    "# 5. Finding Outliers Using Quartiles\n",
    "lower_bound = q1 - 1.5 * iqr\n",
    "upper_bound = q3 + 1.5 * iqr\n",
    "outliers = [x for x in data if x < lower_bound or x > upper_bound]\n",
    "\n",
    "print(\"Lower Bound:\", lower_bound)\n",
    "print(\"Upper Bound:\", upper_bound)\n",
    "print(\"Outliers:\", outliers)\n"
   ]
  },
  {
   "cell_type": "code",
   "execution_count": 8,
   "id": "5158be6d",
   "metadata": {},
   "outputs": [
    {
     "name": "stdout",
     "output_type": "stream",
     "text": [
      "Range: 14\n",
      "Variance: 17.49\n",
      "Standard Deviation: 4.182104733265296\n"
     ]
    }
   ],
   "source": [
    "# 6. Measures of Dispersion\n",
    "range_val = max_val - min_val\n",
    "variance = np.var(data, ddof=0)  # Population variance\n",
    "std_dev = np.std(data, ddof=0)   # Population standard deviation\n",
    "\n",
    "print(\"Range:\", range_val)\n",
    "print(\"Variance:\", variance)\n",
    "print(\"Standard Deviation:\", std_dev)\n"
   ]
  },
  {
   "cell_type": "code",
   "execution_count": 9,
   "id": "1f2902d9",
   "metadata": {},
   "outputs": [
    {
     "name": "stdout",
     "output_type": "stream",
     "text": [
      "Z-scores: [np.float64(-1.219481654639967), np.float64(-0.5021395048517513), np.float64(-0.7412535547811565), np.float64(-1.6977097544987774), np.float64(0.21520264493646438), np.float64(0.6934307447952748), np.float64(1.1716588446540852), np.float64(1.6498869445128956), np.float64(-0.023911404992940862), np.float64(0.4543166948658696)]\n"
     ]
    }
   ],
   "source": [
    "# 7. Z-score Standardization\n",
    "z_scores = [(x - mean) / std_dev for x in data]\n",
    "print(\"Z-scores:\", z_scores)\n"
   ]
  },
  {
   "cell_type": "code",
   "execution_count": 10,
   "id": "017e6cb7",
   "metadata": {},
   "outputs": [
    {
     "name": "stdout",
     "output_type": "stream",
     "text": [
      "Correlation Coefficient between x and first 5 values of data: 0.3649002245998808\n"
     ]
    }
   ],
   "source": [
    "# 8. Correlation Coefficient\n",
    "x = [10, 20, 30, 40, 50]\n",
    "y = data[:5]\n",
    "corr_coeff = np.corrcoef(x, y)[0, 1]\n",
    "print(\"Correlation Coefficient between x and first 5 values of data:\", corr_coeff)\n"
   ]
  },
  {
   "cell_type": "code",
   "execution_count": 11,
   "id": "4902fa42",
   "metadata": {},
   "outputs": [
    {
     "data": {
      "image/png": "[encoded data removed]",
      "text/plain": [
       "<Figure size 600x400 with 1 Axes>"
      ]
     },
     "metadata": {},
     "output_type": "display_data"
    }
   ],
   "source": [
    "# 9. Scatter Plot Visualization\n",
    "import matplotlib.pyplot as plt\n",
    "\n",
    "x = [10, 20, 30, 40, 50]\n",
    "y = data[:5]\n",
    "\n",
    "plt.figure(figsize=(6, 4))\n",
    "plt.scatter(x, y, color='blue')\n",
    "plt.title(\"Scatter Plot of x vs y\")\n",
    "plt.xlabel(\"x\")\n",
    "plt.ylabel(\"y\")\n",
    "plt.grid(True)\n",
    "plt.show()\n"
   ]
  },
  {
   "cell_type": "code",
   "execution_count": 12,
   "id": "7326599c",
   "metadata": {},
   "outputs": [
    {
     "data": {
      "image/png": "[encoded data removed]",
      "text/plain": [
       "<Figure size 600x400 with 1 Axes>"
      ]
     },
     "metadata": {},
     "output_type": "display_data"
    }
   ],
   "source": [
    "# 10. Box Plot Visualization\n",
    "plt.figure(figsize=(6, 4))\n",
    "plt.boxplot(data, vert=False)\n",
    "plt.title(\"Box Plot of Dataset\")\n",
    "plt.xlabel(\"Values\")\n",
    "plt.grid(True)\n",
    "plt.show()\n"
   ]
  },
  {
   "cell_type": "code",
   "execution_count": 13,
   "id": "dbc6210b",
   "metadata": {},
   "outputs": [
    {
     "data": {
      "image/png": "[encoded data removed]",
      "text/plain": [
       "<Figure size 600x400 with 1 Axes>"
      ]
     },
     "metadata": {},
     "output_type": "display_data"
    }
   ],
   "source": [
    "# 11. Histogram Analysis\n",
    "plt.figure(figsize=(6, 4))\n",
    "plt.hist(data, bins=5, color='skyblue', edgecolor='black')\n",
    "plt.title(\"Histogram of Dataset\")\n",
    "plt.xlabel(\"Value Ranges\")\n",
    "plt.ylabel(\"Frequency\")\n",
    "plt.grid(True)\n",
    "plt.show()\n"
   ]
  },
  {
   "cell_type": "markdown",
   "id": "93f2787c",
   "metadata": {},
   "source": [
    "# 12. Why Inferential Statistics?\n",
    "\n",
    "Inferential statistics help us draw conclusions about a population based on a sample.\n",
    "- **Correlation** measures the relationship between two variables (e.g., ice cream sales and temperature).\n",
    "- **Causation** implies one variable directly affects another (e.g., smoking causes lung disease).\n",
    "\n",
    "**Example:** High ice cream sales and more drowning incidents are correlated in summer, but one does not cause the other. The actual cause is the rise in temperature.\n"
   ]
  },
  {
   "cell_type": "markdown",
   "id": "e178012d",
   "metadata": {},
   "source": [
    "# 13. Population vs. Sample\n",
    "\n",
    "Sampling is used when it is impractical or impossible to study the entire population.\n",
    "\n",
    "**Example:** A mobile company surveys 1,000 users out of 1 million to understand user satisfaction. This sample helps estimate the sentiment of the entire population efficiently.\n"
   ]
  },
  {
   "cell_type": "markdown",
   "id": "63036dbb",
   "metadata": {},
   "source": [
    "# 14. Hypothesis Testing Concepts\n",
    "\n",
    "- **Null Hypothesis (H₀):** There is no effect or difference.\n",
    "- **Alternative Hypothesis (H₁):** There is an effect or difference.\n",
    "- **Significance Level (α):** Threshold for rejecting H₀ (commonly 0.05).\n",
    "- **P-value:** Probability of observing the data given H₀ is true.\n",
    "\n",
    "If p-value < α, we reject H₀.\n"
   ]
  },
  {
   "cell_type": "code",
   "execution_count": 14,
   "id": "4eb97100",
   "metadata": {},
   "outputs": [
    {
     "name": "stdout",
     "output_type": "stream",
     "text": [
      "Z-test Statistic: 6.324555320336759\n"
     ]
    }
   ],
   "source": [
    "# 15. Z-test Calculation\n",
    "sample_mean = 25\n",
    "population_mean = 22\n",
    "population_std = 3\n",
    "sample_size = 40\n",
    "\n",
    "z_score = (sample_mean - population_mean) / (population_std / (sample_size ** 0.5))\n",
    "print(\"Z-test Statistic:\", z_score)\n"
   ]
  },
  {
   "cell_type": "code",
   "execution_count": 15,
   "id": "1cd0352e",
   "metadata": {},
   "outputs": [
    {
     "name": "stdout",
     "output_type": "stream",
     "text": [
      "P-value: 1.269814253745949e-10\n",
      "Reject the Null Hypothesis\n"
     ]
    }
   ],
   "source": [
    "# 16. P-value Computation\n",
    "p_value = 1 - scipy_stats.norm.cdf(z_score)\n",
    "print(\"P-value:\", p_value)\n",
    "\n",
    "alpha = 0.05\n",
    "if p_value < alpha:\n",
    "    print(\"Reject the Null Hypothesis\")\n",
    "else:\n",
    "    print(\"Fail to Reject the Null Hypothesis\")\n"
   ]
  },
  {
   "cell_type": "code",
   "execution_count": 16,
   "id": "97ca945c",
   "metadata": {},
   "outputs": [
    {
     "name": "stdout",
     "output_type": "stream",
     "text": [
      "T-statistic: 1.3347640585603673\n",
      "P-value: 0.23036820014089662\n",
      "Fail to Reject the Null Hypothesis: No significant difference from 50\n"
     ]
    }
   ],
   "source": [
    "# 17. One Sample T-test\n",
    "sample_data = [45, 50, 55, 60, 62, 48, 52]\n",
    "hypothesized_mean = 50\n",
    "\n",
    "t_stat, p_val = scipy_stats.ttest_1samp(sample_data, popmean=hypothesized_mean)\n",
    "print(\"T-statistic:\", t_stat)\n",
    "print(\"P-value:\", p_val)\n",
    "\n",
    "alpha = 0.05\n",
    "if p_val < alpha:\n",
    "    print(\"Reject the Null Hypothesis: Mean is significantly different from 50\")\n",
    "else:\n",
    "    print(\"Fail to Reject the Null Hypothesis: No significant difference from 50\")\n"
   ]
  },
  {
   "cell_type": "code",
   "execution_count": 17,
   "id": "ff325f4c",
   "metadata": {},
   "outputs": [
    {
     "name": "stdout",
     "output_type": "stream",
     "text": [
      "T-statistic: 5.034016027514163\n",
      "P-value: 0.0010100930532333506\n",
      "Reject the Null Hypothesis: Significant difference between group means\n"
     ]
    }
   ],
   "source": [
    "# 18. Independent Sample T-test\n",
    "group1 = [85, 90, 88, 92, 86]\n",
    "group2 = [78, 75, 80, 83, 79]\n",
    "\n",
    "t_stat_ind, p_val_ind = scipy_stats.ttest_ind(group1, group2, equal_var=False)  # Welch’s t-test\n",
    "print(\"T-statistic:\", t_stat_ind)\n",
    "print(\"P-value:\", p_val_ind)\n",
    "\n",
    "if p_val_ind < alpha:\n",
    "    print(\"Reject the Null Hypothesis: Significant difference between group means\")\n",
    "else:\n",
    "    print(\"Fail to Reject the Null Hypothesis: No significant difference between group means\")\n"
   ]
  },
  {
   "cell_type": "code",
   "execution_count": 18,
   "id": "627f3cd8",
   "metadata": {},
   "outputs": [
    {
     "name": "stdout",
     "output_type": "stream",
     "text": [
      "Critical T-value at df=4 and α=0.05 (two-tailed): 2.7764451051977987\n",
      "T-statistic is beyond the critical value: Reject H₀\n"
     ]
    }
   ],
   "source": [
    "# 19. Critical T-value Lookup\n",
    "# Degrees of Freedom = min(n1-1, n2-1) = 4 for each group -> df = 4\n",
    "# α = 0.05, two-tailed test\n",
    "\n",
    "df = 4\n",
    "critical_t_val = scipy_stats.t.ppf(1 - alpha/2, df)\n",
    "print(\"Critical T-value at df=4 and α=0.05 (two-tailed):\", critical_t_val)\n",
    "\n",
    "# Interpretation\n",
    "if abs(t_stat_ind) > critical_t_val:\n",
    "    print(\"T-statistic is beyond the critical value: Reject H₀\")\n",
    "else:\n",
    "    print(\"T-statistic is within the critical value: Fail to Reject H₀\")\n"
   ]
  },
  {
   "cell_type": "markdown",
   "id": "37a46939",
   "metadata": {},
   "source": [
    "# 20. Summary and Insights\n",
    "\n",
    "**Descriptive Statistics:**\n",
    "- Help summarize the main features of data including mean, median, mode, range, and variability.\n",
    "- Box plots, histograms, and Z-scores help visualize and standardize the data.\n",
    "\n",
    "**Inferential Statistics:**\n",
    "- Allow drawing conclusions about populations based on samples.\n",
    "- Hypothesis testing (Z-test, T-tests) helps evaluate assumptions and detect significant differences.\n",
    "- Correlation shows relationship strength but not causation.\n",
    "\n",
    "**Real-World Use:**\n",
    "- In marketing, inferential stats can test if a new ad campaign increases sales.\n",
    "- In healthcare, T-tests can check if a new drug improves patient outcomes compared to the standard.\n",
    "\n",
    "These tools help make informed, data-driven decisions in every field from business to science.\n"
   ]
  }
 ],
 "metadata": {
  "kernelspec": {
   "display_name": "Python 3",
   "language": "python",
   "name": "python3"
  },
  "language_info": {
   "codemirror_mode": {
    "name": "ipython",
    "version": 3
   },
   "file_extension": ".py",
   "mimetype": "text/x-python",
   "name": "python",
   "nbconvert_exporter": "python",
   "pygments_lexer": "ipython3",
   "version": "3.13.2"
  }
 },
 "nbformat": 4,
 "nbformat_minor": 5
}
