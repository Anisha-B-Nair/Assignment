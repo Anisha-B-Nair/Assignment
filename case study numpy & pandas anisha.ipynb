{
 "cells": [
  {
   "cell_type": "code",
   "execution_count": 2,
   "id": "03b0b67c-c252-4b13-ae7e-bff8b59199a7",
   "metadata": {},
   "outputs": [],
   "source": [
    "#1.Basic Array Operations Convert the mpg column into a NumPy array and calculate: ○ The mean, median, and standard deviation of mpg. ○ The number of cars with mpg greater than 25.\n"
   ]
  },
  {
   "cell_type": "code",
   "execution_count": null,
   "id": "5ad1a7c3-cdc9-45ee-b1b1-8a72775a9aab",
   "metadata": {},
   "outputs": [],
   "source": [
    "import numpy as np\n",
    "import pandas as pd"
   ]
  },
  {
   "cell_type": "code",
   "execution_count": 4,
   "id": "66ca6c2a-b20b-440b-810b-d571c0d173a3",
   "metadata": {},
   "outputs": [],
   "source": [
    "data = pd.read_csv(r\"C:\\Users\\Admin\\Downloads\\auto-mpg.csv\")"
   ]
  },
  {
   "cell_type": "code",
   "execution_count": 5,
   "id": "c7d4905f-143b-4c6e-85f1-ccdcc1212dc7",
   "metadata": {},
   "outputs": [
    {
     "data": {
      "text/html": [
       "<div>\n",
       "<style scoped>\n",
       "    .dataframe tbody tr th:only-of-type {\n",
       "        vertical-align: middle;\n",
       "    }\n",
       "\n",
       "    .dataframe tbody tr th {\n",
       "        vertical-align: top;\n",
       "    }\n",
       "\n",
       "    .dataframe thead th {\n",
       "        text-align: right;\n",
       "    }\n",
       "</style>\n",
       "<table border=\"1\" class=\"dataframe\">\n",
       "  <thead>\n",
       "    <tr style=\"text-align: right;\">\n",
       "      <th></th>\n",
       "      <th>mpg</th>\n",
       "      <th>cylinders</th>\n",
       "      <th>displacement</th>\n",
       "      <th>horsepower</th>\n",
       "      <th>weight</th>\n",
       "      <th>acceleration</th>\n",
       "      <th>model year</th>\n",
       "      <th>origin</th>\n",
       "      <th>car name</th>\n",
       "    </tr>\n",
       "  </thead>\n",
       "  <tbody>\n",
       "    <tr>\n",
       "      <th>0</th>\n",
       "      <td>18.0</td>\n",
       "      <td>8</td>\n",
       "      <td>307.0</td>\n",
       "      <td>130</td>\n",
       "      <td>3504</td>\n",
       "      <td>12.0</td>\n",
       "      <td>70</td>\n",
       "      <td>1</td>\n",
       "      <td>chevrolet chevelle malibu</td>\n",
       "    </tr>\n",
       "    <tr>\n",
       "      <th>1</th>\n",
       "      <td>15.0</td>\n",
       "      <td>8</td>\n",
       "      <td>350.0</td>\n",
       "      <td>165</td>\n",
       "      <td>3693</td>\n",
       "      <td>11.5</td>\n",
       "      <td>70</td>\n",
       "      <td>1</td>\n",
       "      <td>buick skylark 320</td>\n",
       "    </tr>\n",
       "    <tr>\n",
       "      <th>2</th>\n",
       "      <td>18.0</td>\n",
       "      <td>8</td>\n",
       "      <td>318.0</td>\n",
       "      <td>150</td>\n",
       "      <td>3436</td>\n",
       "      <td>11.0</td>\n",
       "      <td>70</td>\n",
       "      <td>1</td>\n",
       "      <td>plymouth satellite</td>\n",
       "    </tr>\n",
       "    <tr>\n",
       "      <th>3</th>\n",
       "      <td>16.0</td>\n",
       "      <td>8</td>\n",
       "      <td>304.0</td>\n",
       "      <td>150</td>\n",
       "      <td>3433</td>\n",
       "      <td>12.0</td>\n",
       "      <td>70</td>\n",
       "      <td>1</td>\n",
       "      <td>amc rebel sst</td>\n",
       "    </tr>\n",
       "    <tr>\n",
       "      <th>4</th>\n",
       "      <td>17.0</td>\n",
       "      <td>8</td>\n",
       "      <td>302.0</td>\n",
       "      <td>140</td>\n",
       "      <td>3449</td>\n",
       "      <td>10.5</td>\n",
       "      <td>70</td>\n",
       "      <td>1</td>\n",
       "      <td>ford torino</td>\n",
       "    </tr>\n",
       "    <tr>\n",
       "      <th>...</th>\n",
       "      <td>...</td>\n",
       "      <td>...</td>\n",
       "      <td>...</td>\n",
       "      <td>...</td>\n",
       "      <td>...</td>\n",
       "      <td>...</td>\n",
       "      <td>...</td>\n",
       "      <td>...</td>\n",
       "      <td>...</td>\n",
       "    </tr>\n",
       "    <tr>\n",
       "      <th>393</th>\n",
       "      <td>27.0</td>\n",
       "      <td>4</td>\n",
       "      <td>140.0</td>\n",
       "      <td>86</td>\n",
       "      <td>2790</td>\n",
       "      <td>15.6</td>\n",
       "      <td>82</td>\n",
       "      <td>1</td>\n",
       "      <td>ford mustang gl</td>\n",
       "    </tr>\n",
       "    <tr>\n",
       "      <th>394</th>\n",
       "      <td>44.0</td>\n",
       "      <td>4</td>\n",
       "      <td>97.0</td>\n",
       "      <td>52</td>\n",
       "      <td>2130</td>\n",
       "      <td>24.6</td>\n",
       "      <td>82</td>\n",
       "      <td>2</td>\n",
       "      <td>vw pickup</td>\n",
       "    </tr>\n",
       "    <tr>\n",
       "      <th>395</th>\n",
       "      <td>32.0</td>\n",
       "      <td>4</td>\n",
       "      <td>135.0</td>\n",
       "      <td>84</td>\n",
       "      <td>2295</td>\n",
       "      <td>11.6</td>\n",
       "      <td>82</td>\n",
       "      <td>1</td>\n",
       "      <td>dodge rampage</td>\n",
       "    </tr>\n",
       "    <tr>\n",
       "      <th>396</th>\n",
       "      <td>28.0</td>\n",
       "      <td>4</td>\n",
       "      <td>120.0</td>\n",
       "      <td>79</td>\n",
       "      <td>2625</td>\n",
       "      <td>18.6</td>\n",
       "      <td>82</td>\n",
       "      <td>1</td>\n",
       "      <td>ford ranger</td>\n",
       "    </tr>\n",
       "    <tr>\n",
       "      <th>397</th>\n",
       "      <td>31.0</td>\n",
       "      <td>4</td>\n",
       "      <td>119.0</td>\n",
       "      <td>82</td>\n",
       "      <td>2720</td>\n",
       "      <td>19.4</td>\n",
       "      <td>82</td>\n",
       "      <td>1</td>\n",
       "      <td>chevy s-10</td>\n",
       "    </tr>\n",
       "  </tbody>\n",
       "</table>\n",
       "<p>398 rows × 9 columns</p>\n",
       "</div>"
      ],
      "text/plain": [
       "      mpg  cylinders  displacement horsepower  weight  acceleration  \\\n",
       "0    18.0          8         307.0        130    3504          12.0   \n",
       "1    15.0          8         350.0        165    3693          11.5   \n",
       "2    18.0          8         318.0        150    3436          11.0   \n",
       "3    16.0          8         304.0        150    3433          12.0   \n",
       "4    17.0          8         302.0        140    3449          10.5   \n",
       "..    ...        ...           ...        ...     ...           ...   \n",
       "393  27.0          4         140.0         86    2790          15.6   \n",
       "394  44.0          4          97.0         52    2130          24.6   \n",
       "395  32.0          4         135.0         84    2295          11.6   \n",
       "396  28.0          4         120.0         79    2625          18.6   \n",
       "397  31.0          4         119.0         82    2720          19.4   \n",
       "\n",
       "     model year  origin                   car name  \n",
       "0            70       1  chevrolet chevelle malibu  \n",
       "1            70       1          buick skylark 320  \n",
       "2            70       1         plymouth satellite  \n",
       "3            70       1              amc rebel sst  \n",
       "4            70       1                ford torino  \n",
       "..          ...     ...                        ...  \n",
       "393          82       1            ford mustang gl  \n",
       "394          82       2                  vw pickup  \n",
       "395          82       1              dodge rampage  \n",
       "396          82       1                ford ranger  \n",
       "397          82       1                 chevy s-10  \n",
       "\n",
       "[398 rows x 9 columns]"
      ]
     },
     "execution_count": 5,
     "metadata": {},
     "output_type": "execute_result"
    }
   ],
   "source": [
    "data"
   ]
  },
  {
   "cell_type": "code",
   "execution_count": 7,
   "id": "46f1a26d-473e-4877-8634-3008547d1166",
   "metadata": {},
   "outputs": [],
   "source": [
    "mpg_array = np.array(data['mpg'])"
   ]
  },
  {
   "cell_type": "code",
   "execution_count": 8,
   "id": "8bba57f6-8e66-4b89-abdf-9610b44bc2a3",
   "metadata": {},
   "outputs": [
    {
     "data": {
      "text/plain": [
       "array([18. , 15. , 18. , 16. , 17. , 15. , 14. , 14. , 14. , 15. , 15. ,\n",
       "       14. , 15. , 14. , 24. , 22. , 18. , 21. , 27. , 26. , 25. , 24. ,\n",
       "       25. , 26. , 21. , 10. , 10. , 11. ,  9. , 27. , 28. , 25. , 25. ,\n",
       "       19. , 16. , 17. , 19. , 18. , 14. , 14. , 14. , 14. , 12. , 13. ,\n",
       "       13. , 18. , 22. , 19. , 18. , 23. , 28. , 30. , 30. , 31. , 35. ,\n",
       "       27. , 26. , 24. , 25. , 23. , 20. , 21. , 13. , 14. , 15. , 14. ,\n",
       "       17. , 11. , 13. , 12. , 13. , 19. , 15. , 13. , 13. , 14. , 18. ,\n",
       "       22. , 21. , 26. , 22. , 28. , 23. , 28. , 27. , 13. , 14. , 13. ,\n",
       "       14. , 15. , 12. , 13. , 13. , 14. , 13. , 12. , 13. , 18. , 16. ,\n",
       "       18. , 18. , 23. , 26. , 11. , 12. , 13. , 12. , 18. , 20. , 21. ,\n",
       "       22. , 18. , 19. , 21. , 26. , 15. , 16. , 29. , 24. , 20. , 19. ,\n",
       "       15. , 24. , 20. , 11. , 20. , 21. , 19. , 15. , 31. , 26. , 32. ,\n",
       "       25. , 16. , 16. , 18. , 16. , 13. , 14. , 14. , 14. , 29. , 26. ,\n",
       "       26. , 31. , 32. , 28. , 24. , 26. , 24. , 26. , 31. , 19. , 18. ,\n",
       "       15. , 15. , 16. , 15. , 16. , 14. , 17. , 16. , 15. , 18. , 21. ,\n",
       "       20. , 13. , 29. , 23. , 20. , 23. , 24. , 25. , 24. , 18. , 29. ,\n",
       "       19. , 23. , 23. , 22. , 25. , 33. , 28. , 25. , 25. , 26. , 27. ,\n",
       "       17.5, 16. , 15.5, 14.5, 22. , 22. , 24. , 22.5, 29. , 24.5, 29. ,\n",
       "       33. , 20. , 18. , 18.5, 17.5, 29.5, 32. , 28. , 26.5, 20. , 13. ,\n",
       "       19. , 19. , 16.5, 16.5, 13. , 13. , 13. , 31.5, 30. , 36. , 25.5,\n",
       "       33.5, 17.5, 17. , 15.5, 15. , 17.5, 20.5, 19. , 18.5, 16. , 15.5,\n",
       "       15.5, 16. , 29. , 24.5, 26. , 25.5, 30.5, 33.5, 30. , 30.5, 22. ,\n",
       "       21.5, 21.5, 43.1, 36.1, 32.8, 39.4, 36.1, 19.9, 19.4, 20.2, 19.2,\n",
       "       20.5, 20.2, 25.1, 20.5, 19.4, 20.6, 20.8, 18.6, 18.1, 19.2, 17.7,\n",
       "       18.1, 17.5, 30. , 27.5, 27.2, 30.9, 21.1, 23.2, 23.8, 23.9, 20.3,\n",
       "       17. , 21.6, 16.2, 31.5, 29.5, 21.5, 19.8, 22.3, 20.2, 20.6, 17. ,\n",
       "       17.6, 16.5, 18.2, 16.9, 15.5, 19.2, 18.5, 31.9, 34.1, 35.7, 27.4,\n",
       "       25.4, 23. , 27.2, 23.9, 34.2, 34.5, 31.8, 37.3, 28.4, 28.8, 26.8,\n",
       "       33.5, 41.5, 38.1, 32.1, 37.2, 28. , 26.4, 24.3, 19.1, 34.3, 29.8,\n",
       "       31.3, 37. , 32.2, 46.6, 27.9, 40.8, 44.3, 43.4, 36.4, 30. , 44.6,\n",
       "       40.9, 33.8, 29.8, 32.7, 23.7, 35. , 23.6, 32.4, 27.2, 26.6, 25.8,\n",
       "       23.5, 30. , 39.1, 39. , 35.1, 32.3, 37. , 37.7, 34.1, 34.7, 34.4,\n",
       "       29.9, 33. , 34.5, 33.7, 32.4, 32.9, 31.6, 28.1, 30.7, 25.4, 24.2,\n",
       "       22.4, 26.6, 20.2, 17.6, 28. , 27. , 34. , 31. , 29. , 27. , 24. ,\n",
       "       23. , 36. , 37. , 31. , 38. , 36. , 36. , 36. , 34. , 38. , 32. ,\n",
       "       38. , 25. , 38. , 26. , 22. , 32. , 36. , 27. , 27. , 44. , 32. ,\n",
       "       28. , 31. ])"
      ]
     },
     "execution_count": 8,
     "metadata": {},
     "output_type": "execute_result"
    }
   ],
   "source": [
    "mpg_array"
   ]
  },
  {
   "cell_type": "code",
   "execution_count": 10,
   "id": "e17cb18a-bb72-4dd7-a0d0-470a7bc624f6",
   "metadata": {},
   "outputs": [
    {
     "data": {
      "text/plain": [
       "np.float64(23.514572864321607)"
      ]
     },
     "execution_count": 10,
     "metadata": {},
     "output_type": "execute_result"
    }
   ],
   "source": [
    "np.mean(mpg_array)"
   ]
  },
  {
   "cell_type": "code",
   "execution_count": 11,
   "id": "3f6d7471-d2b7-41cb-92ba-99bbd8dcd2ee",
   "metadata": {},
   "outputs": [
    {
     "data": {
      "text/plain": [
       "np.float64(23.0)"
      ]
     },
     "execution_count": 11,
     "metadata": {},
     "output_type": "execute_result"
    }
   ],
   "source": [
    "np.median(mpg_array)"
   ]
  },
  {
   "cell_type": "code",
   "execution_count": 9,
   "id": "f85b3826-6ac7-48bc-973a-9b4aeae386b8",
   "metadata": {},
   "outputs": [
    {
     "data": {
      "text/plain": [
       "np.float64(7.806159061274433)"
      ]
     },
     "execution_count": 9,
     "metadata": {},
     "output_type": "execute_result"
    }
   ],
   "source": [
    "np.std(mpg_array)"
   ]
  },
  {
   "cell_type": "code",
   "execution_count": 12,
   "id": "0f9f240b-e384-41d1-a259-02da28cb1742",
   "metadata": {},
   "outputs": [],
   "source": [
    "data1 = data[data['mpg'] >25]"
   ]
  },
  {
   "cell_type": "code",
   "execution_count": 13,
   "id": "10a311f2-0744-48f4-899b-0165c0032d99",
   "metadata": {},
   "outputs": [
    {
     "data": {
      "text/html": [
       "<div>\n",
       "<style scoped>\n",
       "    .dataframe tbody tr th:only-of-type {\n",
       "        vertical-align: middle;\n",
       "    }\n",
       "\n",
       "    .dataframe tbody tr th {\n",
       "        vertical-align: top;\n",
       "    }\n",
       "\n",
       "    .dataframe thead th {\n",
       "        text-align: right;\n",
       "    }\n",
       "</style>\n",
       "<table border=\"1\" class=\"dataframe\">\n",
       "  <thead>\n",
       "    <tr style=\"text-align: right;\">\n",
       "      <th></th>\n",
       "      <th>mpg</th>\n",
       "      <th>cylinders</th>\n",
       "      <th>displacement</th>\n",
       "      <th>horsepower</th>\n",
       "      <th>weight</th>\n",
       "      <th>acceleration</th>\n",
       "      <th>model year</th>\n",
       "      <th>origin</th>\n",
       "      <th>car name</th>\n",
       "    </tr>\n",
       "  </thead>\n",
       "  <tbody>\n",
       "    <tr>\n",
       "      <th>18</th>\n",
       "      <td>27.0</td>\n",
       "      <td>4</td>\n",
       "      <td>97.0</td>\n",
       "      <td>88</td>\n",
       "      <td>2130</td>\n",
       "      <td>14.5</td>\n",
       "      <td>70</td>\n",
       "      <td>3</td>\n",
       "      <td>datsun pl510</td>\n",
       "    </tr>\n",
       "    <tr>\n",
       "      <th>19</th>\n",
       "      <td>26.0</td>\n",
       "      <td>4</td>\n",
       "      <td>97.0</td>\n",
       "      <td>46</td>\n",
       "      <td>1835</td>\n",
       "      <td>20.5</td>\n",
       "      <td>70</td>\n",
       "      <td>2</td>\n",
       "      <td>volkswagen 1131 deluxe sedan</td>\n",
       "    </tr>\n",
       "    <tr>\n",
       "      <th>23</th>\n",
       "      <td>26.0</td>\n",
       "      <td>4</td>\n",
       "      <td>121.0</td>\n",
       "      <td>113</td>\n",
       "      <td>2234</td>\n",
       "      <td>12.5</td>\n",
       "      <td>70</td>\n",
       "      <td>2</td>\n",
       "      <td>bmw 2002</td>\n",
       "    </tr>\n",
       "    <tr>\n",
       "      <th>29</th>\n",
       "      <td>27.0</td>\n",
       "      <td>4</td>\n",
       "      <td>97.0</td>\n",
       "      <td>88</td>\n",
       "      <td>2130</td>\n",
       "      <td>14.5</td>\n",
       "      <td>71</td>\n",
       "      <td>3</td>\n",
       "      <td>datsun pl510</td>\n",
       "    </tr>\n",
       "    <tr>\n",
       "      <th>30</th>\n",
       "      <td>28.0</td>\n",
       "      <td>4</td>\n",
       "      <td>140.0</td>\n",
       "      <td>90</td>\n",
       "      <td>2264</td>\n",
       "      <td>15.5</td>\n",
       "      <td>71</td>\n",
       "      <td>1</td>\n",
       "      <td>chevrolet vega 2300</td>\n",
       "    </tr>\n",
       "    <tr>\n",
       "      <th>...</th>\n",
       "      <td>...</td>\n",
       "      <td>...</td>\n",
       "      <td>...</td>\n",
       "      <td>...</td>\n",
       "      <td>...</td>\n",
       "      <td>...</td>\n",
       "      <td>...</td>\n",
       "      <td>...</td>\n",
       "      <td>...</td>\n",
       "    </tr>\n",
       "    <tr>\n",
       "      <th>393</th>\n",
       "      <td>27.0</td>\n",
       "      <td>4</td>\n",
       "      <td>140.0</td>\n",
       "      <td>86</td>\n",
       "      <td>2790</td>\n",
       "      <td>15.6</td>\n",
       "      <td>82</td>\n",
       "      <td>1</td>\n",
       "      <td>ford mustang gl</td>\n",
       "    </tr>\n",
       "    <tr>\n",
       "      <th>394</th>\n",
       "      <td>44.0</td>\n",
       "      <td>4</td>\n",
       "      <td>97.0</td>\n",
       "      <td>52</td>\n",
       "      <td>2130</td>\n",
       "      <td>24.6</td>\n",
       "      <td>82</td>\n",
       "      <td>2</td>\n",
       "      <td>vw pickup</td>\n",
       "    </tr>\n",
       "    <tr>\n",
       "      <th>395</th>\n",
       "      <td>32.0</td>\n",
       "      <td>4</td>\n",
       "      <td>135.0</td>\n",
       "      <td>84</td>\n",
       "      <td>2295</td>\n",
       "      <td>11.6</td>\n",
       "      <td>82</td>\n",
       "      <td>1</td>\n",
       "      <td>dodge rampage</td>\n",
       "    </tr>\n",
       "    <tr>\n",
       "      <th>396</th>\n",
       "      <td>28.0</td>\n",
       "      <td>4</td>\n",
       "      <td>120.0</td>\n",
       "      <td>79</td>\n",
       "      <td>2625</td>\n",
       "      <td>18.6</td>\n",
       "      <td>82</td>\n",
       "      <td>1</td>\n",
       "      <td>ford ranger</td>\n",
       "    </tr>\n",
       "    <tr>\n",
       "      <th>397</th>\n",
       "      <td>31.0</td>\n",
       "      <td>4</td>\n",
       "      <td>119.0</td>\n",
       "      <td>82</td>\n",
       "      <td>2720</td>\n",
       "      <td>19.4</td>\n",
       "      <td>82</td>\n",
       "      <td>1</td>\n",
       "      <td>chevy s-10</td>\n",
       "    </tr>\n",
       "  </tbody>\n",
       "</table>\n",
       "<p>158 rows × 9 columns</p>\n",
       "</div>"
      ],
      "text/plain": [
       "      mpg  cylinders  displacement horsepower  weight  acceleration  \\\n",
       "18   27.0          4          97.0         88    2130          14.5   \n",
       "19   26.0          4          97.0         46    1835          20.5   \n",
       "23   26.0          4         121.0        113    2234          12.5   \n",
       "29   27.0          4          97.0         88    2130          14.5   \n",
       "30   28.0          4         140.0         90    2264          15.5   \n",
       "..    ...        ...           ...        ...     ...           ...   \n",
       "393  27.0          4         140.0         86    2790          15.6   \n",
       "394  44.0          4          97.0         52    2130          24.6   \n",
       "395  32.0          4         135.0         84    2295          11.6   \n",
       "396  28.0          4         120.0         79    2625          18.6   \n",
       "397  31.0          4         119.0         82    2720          19.4   \n",
       "\n",
       "     model year  origin                      car name  \n",
       "18           70       3                  datsun pl510  \n",
       "19           70       2  volkswagen 1131 deluxe sedan  \n",
       "23           70       2                      bmw 2002  \n",
       "29           71       3                  datsun pl510  \n",
       "30           71       1           chevrolet vega 2300  \n",
       "..          ...     ...                           ...  \n",
       "393          82       1               ford mustang gl  \n",
       "394          82       2                     vw pickup  \n",
       "395          82       1                 dodge rampage  \n",
       "396          82       1                   ford ranger  \n",
       "397          82       1                    chevy s-10  \n",
       "\n",
       "[158 rows x 9 columns]"
      ]
     },
     "execution_count": 13,
     "metadata": {},
     "output_type": "execute_result"
    }
   ],
   "source": [
    "data1"
   ]
  },
  {
   "cell_type": "code",
   "execution_count": 14,
   "id": "b733b801-ceb2-43c3-b07f-039cdd1a7113",
   "metadata": {},
   "outputs": [
    {
     "data": {
      "text/html": [
       "<div>\n",
       "<style scoped>\n",
       "    .dataframe tbody tr th:only-of-type {\n",
       "        vertical-align: middle;\n",
       "    }\n",
       "\n",
       "    .dataframe tbody tr th {\n",
       "        vertical-align: top;\n",
       "    }\n",
       "\n",
       "    .dataframe thead th {\n",
       "        text-align: right;\n",
       "    }\n",
       "</style>\n",
       "<table border=\"1\" class=\"dataframe\">\n",
       "  <thead>\n",
       "    <tr style=\"text-align: right;\">\n",
       "      <th></th>\n",
       "      <th>mpg</th>\n",
       "      <th>car name</th>\n",
       "    </tr>\n",
       "  </thead>\n",
       "  <tbody>\n",
       "    <tr>\n",
       "      <th>18</th>\n",
       "      <td>27.0</td>\n",
       "      <td>datsun pl510</td>\n",
       "    </tr>\n",
       "    <tr>\n",
       "      <th>19</th>\n",
       "      <td>26.0</td>\n",
       "      <td>volkswagen 1131 deluxe sedan</td>\n",
       "    </tr>\n",
       "    <tr>\n",
       "      <th>23</th>\n",
       "      <td>26.0</td>\n",
       "      <td>bmw 2002</td>\n",
       "    </tr>\n",
       "    <tr>\n",
       "      <th>29</th>\n",
       "      <td>27.0</td>\n",
       "      <td>datsun pl510</td>\n",
       "    </tr>\n",
       "    <tr>\n",
       "      <th>30</th>\n",
       "      <td>28.0</td>\n",
       "      <td>chevrolet vega 2300</td>\n",
       "    </tr>\n",
       "    <tr>\n",
       "      <th>...</th>\n",
       "      <td>...</td>\n",
       "      <td>...</td>\n",
       "    </tr>\n",
       "    <tr>\n",
       "      <th>393</th>\n",
       "      <td>27.0</td>\n",
       "      <td>ford mustang gl</td>\n",
       "    </tr>\n",
       "    <tr>\n",
       "      <th>394</th>\n",
       "      <td>44.0</td>\n",
       "      <td>vw pickup</td>\n",
       "    </tr>\n",
       "    <tr>\n",
       "      <th>395</th>\n",
       "      <td>32.0</td>\n",
       "      <td>dodge rampage</td>\n",
       "    </tr>\n",
       "    <tr>\n",
       "      <th>396</th>\n",
       "      <td>28.0</td>\n",
       "      <td>ford ranger</td>\n",
       "    </tr>\n",
       "    <tr>\n",
       "      <th>397</th>\n",
       "      <td>31.0</td>\n",
       "      <td>chevy s-10</td>\n",
       "    </tr>\n",
       "  </tbody>\n",
       "</table>\n",
       "<p>158 rows × 2 columns</p>\n",
       "</div>"
      ],
      "text/plain": [
       "      mpg                      car name\n",
       "18   27.0                  datsun pl510\n",
       "19   26.0  volkswagen 1131 deluxe sedan\n",
       "23   26.0                      bmw 2002\n",
       "29   27.0                  datsun pl510\n",
       "30   28.0           chevrolet vega 2300\n",
       "..    ...                           ...\n",
       "393  27.0               ford mustang gl\n",
       "394  44.0                     vw pickup\n",
       "395  32.0                 dodge rampage\n",
       "396  28.0                   ford ranger\n",
       "397  31.0                    chevy s-10\n",
       "\n",
       "[158 rows x 2 columns]"
      ]
     },
     "execution_count": 14,
     "metadata": {},
     "output_type": "execute_result"
    }
   ],
   "source": [
    "data1[['mpg', 'car name']]"
   ]
  },
  {
   "cell_type": "code",
   "execution_count": null,
   "id": "04028e08-c3eb-4494-b505-3a0f0f4353bc",
   "metadata": {},
   "outputs": [],
   "source": [
    "#2.Filtering Using NumPy, filter all cars with more than 6 cylinders. Return the corresponding car_name as a list."
   ]
  },
  {
   "cell_type": "code",
   "execution_count": 17,
   "id": "55988d36-e124-4ad4-8ee7-d12b380b4cd1",
   "metadata": {},
   "outputs": [],
   "source": [
    "data2 = data[data['cylinders']>6]\n"
   ]
  },
  {
   "cell_type": "code",
   "execution_count": 18,
   "id": "d6cf4be2-7bc1-40c6-afbb-0874d8c8467a",
   "metadata": {},
   "outputs": [],
   "source": [
    "car_name = data2['car name'].tolist()"
   ]
  },
  {
   "cell_type": "code",
   "execution_count": 19,
   "id": "0986f63d-9bfe-4e7d-9e4b-5824f5603aac",
   "metadata": {},
   "outputs": [
    {
     "data": {
      "text/plain": [
       "['chevrolet chevelle malibu',\n",
       " 'buick skylark 320',\n",
       " 'plymouth satellite',\n",
       " 'amc rebel sst',\n",
       " 'ford torino',\n",
       " 'ford galaxie 500',\n",
       " 'chevrolet impala',\n",
       " 'plymouth fury iii',\n",
       " 'pontiac catalina',\n",
       " 'amc ambassador dpl',\n",
       " 'dodge challenger se',\n",
       " \"plymouth 'cuda 340\",\n",
       " 'chevrolet monte carlo',\n",
       " 'buick estate wagon (sw)',\n",
       " 'ford f250',\n",
       " 'chevy c20',\n",
       " 'dodge d200',\n",
       " 'hi 1200d',\n",
       " 'chevrolet impala',\n",
       " 'pontiac catalina brougham',\n",
       " 'ford galaxie 500',\n",
       " 'plymouth fury iii',\n",
       " 'dodge monaco (sw)',\n",
       " 'ford country squire (sw)',\n",
       " 'pontiac safari (sw)',\n",
       " 'chevrolet impala',\n",
       " 'pontiac catalina',\n",
       " 'plymouth fury iii',\n",
       " 'ford galaxie 500',\n",
       " 'amc ambassador sst',\n",
       " 'mercury marquis',\n",
       " 'buick lesabre custom',\n",
       " 'oldsmobile delta 88 royale',\n",
       " 'chrysler newport royal',\n",
       " 'amc matador (sw)',\n",
       " 'chevrolet chevelle concours (sw)',\n",
       " 'ford gran torino (sw)',\n",
       " 'plymouth satellite custom (sw)',\n",
       " 'buick century 350',\n",
       " 'amc matador',\n",
       " 'chevrolet malibu',\n",
       " 'ford gran torino',\n",
       " 'dodge coronet custom',\n",
       " 'mercury marquis brougham',\n",
       " 'chevrolet caprice classic',\n",
       " 'ford ltd',\n",
       " 'plymouth fury gran sedan',\n",
       " 'chrysler new yorker brougham',\n",
       " 'buick electra 225 custom',\n",
       " 'amc ambassador brougham',\n",
       " 'chevrolet impala',\n",
       " 'ford country',\n",
       " 'plymouth custom suburb',\n",
       " 'oldsmobile vista cruiser',\n",
       " 'chevrolet monte carlo s',\n",
       " 'pontiac grand prix',\n",
       " 'dodge dart custom',\n",
       " 'oldsmobile omega',\n",
       " 'ford gran torino',\n",
       " 'buick century luxus (sw)',\n",
       " 'dodge coronet custom (sw)',\n",
       " 'ford gran torino (sw)',\n",
       " 'amc matador (sw)',\n",
       " 'pontiac catalina',\n",
       " 'chevrolet bel air',\n",
       " 'plymouth grand fury',\n",
       " 'ford ltd',\n",
       " 'chevrolet monza 2+2',\n",
       " 'ford mustang ii',\n",
       " 'chevrolet chevelle malibu classic',\n",
       " 'dodge coronet brougham',\n",
       " 'amc matador',\n",
       " 'ford gran torino',\n",
       " 'plymouth volare premier v8',\n",
       " 'cadillac seville',\n",
       " 'chevy c10',\n",
       " 'ford f108',\n",
       " 'dodge d100',\n",
       " 'chevrolet caprice classic',\n",
       " 'oldsmobile cutlass supreme',\n",
       " 'dodge monaco brougham',\n",
       " 'mercury cougar brougham',\n",
       " 'pontiac grand prix lj',\n",
       " 'chevrolet monte carlo landau',\n",
       " 'chrysler cordoba',\n",
       " 'ford thunderbird',\n",
       " 'oldsmobile cutlass salon brougham',\n",
       " 'dodge diplomat',\n",
       " 'mercury monarch ghia',\n",
       " 'chevrolet monte carlo landau',\n",
       " 'ford futura',\n",
       " 'dodge magnum xe',\n",
       " 'chevrolet caprice classic',\n",
       " 'ford ltd landau',\n",
       " 'mercury grand marquis',\n",
       " 'dodge st. regis',\n",
       " 'buick estate wagon (sw)',\n",
       " 'ford country squire (sw)',\n",
       " 'chevrolet malibu classic (sw)',\n",
       " 'chrysler lebaron town @ country (sw)',\n",
       " 'cadillac eldorado',\n",
       " 'oldsmobile cutlass salon brougham',\n",
       " 'oldsmobile cutlass ls']"
      ]
     },
     "execution_count": 19,
     "metadata": {},
     "output_type": "execute_result"
    }
   ],
   "source": [
    "car_name"
   ]
  },
  {
   "cell_type": "code",
   "execution_count": null,
   "id": "bded8038-d432-4d22-8fb0-f1fa49153f24",
   "metadata": {},
   "outputs": [],
   "source": [
    "#3.Statistical Analysis Compute the 25th, 50th, and 75th percentiles of the weight column using NumPy."
   ]
  },
  {
   "cell_type": "code",
   "execution_count": 20,
   "id": "5798948e-987c-4cb8-9936-59d538dbfd9a",
   "metadata": {},
   "outputs": [],
   "source": [
    "weight_array = np.array(data['weight'])"
   ]
  },
  {
   "cell_type": "code",
   "execution_count": 21,
   "id": "a6b2fcaf-823c-44d3-9a5c-35564da8aa3d",
   "metadata": {},
   "outputs": [],
   "source": [
    "per_25 = np.percentile(weight_array, 25)"
   ]
  },
  {
   "cell_type": "code",
   "execution_count": 22,
   "id": "5c1d488f-5a59-4cf8-8d06-9b1b18716702",
   "metadata": {},
   "outputs": [],
   "source": [
    "per_50 = np.percentile(weight_array, 50)"
   ]
  },
  {
   "cell_type": "code",
   "execution_count": 23,
   "id": "645adf76-37fe-4f55-ad29-777413e36dcc",
   "metadata": {},
   "outputs": [],
   "source": [
    "per_75 = np.percentile(weight_array, 75)"
   ]
  },
  {
   "cell_type": "code",
   "execution_count": 24,
   "id": "8c59796d-e970-4eba-8644-4e9b9cfef3c8",
   "metadata": {},
   "outputs": [
    {
     "data": {
      "text/plain": [
       "np.float64(2223.75)"
      ]
     },
     "execution_count": 24,
     "metadata": {},
     "output_type": "execute_result"
    }
   ],
   "source": [
    "per_25"
   ]
  },
  {
   "cell_type": "code",
   "execution_count": 25,
   "id": "42d56f40-f788-4025-91f6-ab853031e249",
   "metadata": {},
   "outputs": [
    {
     "data": {
      "text/plain": [
       "np.float64(2803.5)"
      ]
     },
     "execution_count": 25,
     "metadata": {},
     "output_type": "execute_result"
    }
   ],
   "source": [
    "per_50"
   ]
  },
  {
   "cell_type": "code",
   "execution_count": 26,
   "id": "4c8a75a3-06cf-4169-9c9c-4fbb08448a4f",
   "metadata": {},
   "outputs": [
    {
     "data": {
      "text/plain": [
       "np.float64(3608.0)"
      ]
     },
     "execution_count": 26,
     "metadata": {},
     "output_type": "execute_result"
    }
   ],
   "source": [
    "per_75"
   ]
  },
  {
   "cell_type": "code",
   "execution_count": null,
   "id": "7a9d2cde-76a3-4e2e-aa00-424c2672ae54",
   "metadata": {},
   "outputs": [],
   "source": [
    "#4.Array Manipulation Convert the acceleration column into a NumPy array and normalize its values (scale between 0 and 1)."
   ]
  },
  {
   "cell_type": "code",
   "execution_count": 27,
   "id": "e06039cd-746b-45e5-9952-0b14f471205f",
   "metadata": {},
   "outputs": [],
   "source": [
    "accl_array = np.array(data['acceleration'])"
   ]
  },
  {
   "cell_type": "code",
   "execution_count": 29,
   "id": "513e1688-732e-4de0-8b3d-7383ac499c76",
   "metadata": {},
   "outputs": [],
   "source": [
    "min1 = np.min(accl_array)"
   ]
  },
  {
   "cell_type": "code",
   "execution_count": 28,
   "id": "824e9e35-9e7b-49b3-a99f-7b09ccab1ee1",
   "metadata": {},
   "outputs": [],
   "source": [
    "max1 = np.max(accl_array)"
   ]
  },
  {
   "cell_type": "code",
   "execution_count": 30,
   "id": "fb57904f-616b-4feb-90bd-ff732a409b1c",
   "metadata": {},
   "outputs": [],
   "source": [
    "normalized_accl_values = (accl_array - min1) / (max1-min1)"
   ]
  },
  {
   "cell_type": "code",
   "execution_count": 31,
   "id": "26d9e12c-1693-4344-8be0-b9556694b889",
   "metadata": {},
   "outputs": [
    {
     "name": "stdout",
     "output_type": "stream",
     "text": [
      "Normalised accelaration values: [0.23809524 0.20833333 0.17857143 0.23809524 0.14880952 0.11904762\n",
      " 0.05952381 0.0297619  0.11904762 0.0297619  0.11904762 0.\n",
      " 0.08928571 0.11904762 0.41666667 0.44642857 0.44642857 0.47619048\n",
      " 0.38690476 0.74404762 0.56547619 0.38690476 0.56547619 0.26785714\n",
      " 0.41666667 0.35714286 0.41666667 0.32738095 0.625      0.38690476\n",
      " 0.44642857 0.35714286 0.6547619  0.29761905 0.44642857 0.44642857\n",
      " 0.44642857 0.44642857 0.23809524 0.20833333 0.32738095 0.29761905\n",
      " 0.20833333 0.23809524 0.23809524 0.32738095 0.6547619  0.41666667\n",
      " 0.38690476 0.35714286 0.35714286 0.68452381 0.38690476 0.6547619\n",
      " 0.5952381  0.6547619  0.74404762 0.44642857 0.53571429 0.92261905\n",
      " 0.68452381 0.50595238 0.23809524 0.23809524 0.32738095 0.29761905\n",
      " 0.20833333 0.17857143 0.32738095 0.32738095 0.26785714 0.32738095\n",
      " 0.26785714 0.35714286 0.47619048 0.35714286 0.38690476 0.5952381\n",
      " 0.68452381 0.5952381  0.47619048 0.53571429 0.38690476 0.41666667\n",
      " 0.50595238 0.29761905 0.20833333 0.29761905 0.38690476 0.26785714\n",
      " 0.20833333 0.23809524 0.29761905 0.38690476 0.17857143 0.17857143\n",
      " 0.17857143 0.50595238 0.5952381  0.47619048 0.50595238 0.47619048\n",
      " 0.77380952 0.35714286 0.26785714 0.29761905 0.26785714 0.41666667\n",
      " 0.6547619  0.68452381 0.50595238 0.32738095 0.625      0.35714286\n",
      " 0.44642857 0.29761905 0.08928571 0.68452381 0.44642857 0.35714286\n",
      " 0.44642857 0.17857143 0.35714286 0.32738095 0.17857143 0.50595238\n",
      " 0.53571429 0.47619048 0.53571429 0.6547619  0.50595238 0.77380952\n",
      " 0.53571429 0.53571429 0.5952381  0.50595238 0.35714286 0.38690476\n",
      " 0.32738095 0.47619048 0.44642857 0.50595238 0.44642857 0.38690476\n",
      " 0.50595238 0.6547619  0.38690476 0.44642857 0.35714286 0.41666667\n",
      " 0.44642857 0.47619048 0.47619048 0.47619048 0.77380952 0.68452381\n",
      " 0.20833333 0.35714286 0.38690476 0.32738095 0.77380952 0.625\n",
      " 0.6547619  0.6547619  0.41666667 0.32738095 0.23809524 0.47619048\n",
      " 0.53571429 0.47619048 0.625      0.32738095 0.50595238 0.53571429\n",
      " 0.38690476 0.35714286 0.53571429 0.41666667 0.53571429 0.38690476\n",
      " 0.32738095 0.56547619 0.44642857 0.5297619  0.41071429 0.57738095\n",
      " 0.43452381 0.29761905 0.29761905 0.35119048 0.28571429 0.44047619\n",
      " 0.38690476 0.57142857 0.57142857 0.8452381  0.83928571 0.36904762\n",
      " 0.55952381 0.57738095 0.77380952 0.48809524 0.58333333 0.25\n",
      " 0.53571429 0.5        0.33333333 0.45833333 0.30952381 0.82738095\n",
      " 0.44642857 0.51785714 0.24404762 0.23809524 0.41666667 0.35714286\n",
      " 0.625      0.4047619  0.63095238 0.44642857 0.52380952 0.26785714\n",
      " 0.6547619  0.33928571 0.41071429 0.5        0.5297619  0.57738095\n",
      " 0.6547619  0.18452381 0.20238095 0.25       0.38690476 0.38690476\n",
      " 0.47619048 0.60714286 0.46428571 0.53571429 0.4702381  0.5\n",
      " 0.36309524 0.38690476 0.28571429 0.32738095 0.80357143 0.38095238\n",
      " 0.67857143 0.63095238 0.5        0.44642857 0.30952381 0.28571429\n",
      " 0.66666667 0.60714286 0.46428571 0.44047619 0.54761905 0.54761905\n",
      " 0.46428571 0.51785714 0.63690476 0.42261905 0.30952381 0.32142857\n",
      " 0.19047619 0.33928571 0.50595238 0.36904762 0.39880952 0.38690476\n",
      " 0.4047619  0.51785714 0.57142857 0.41071429 0.4702381  0.33333333\n",
      " 0.45833333 0.46428571 0.41071429 0.51190476 0.44047619 0.60714286\n",
      " 0.55357143 0.60714286 0.51190476 0.44047619 0.32142857 0.30952381\n",
      " 0.42857143 0.41071429 0.375      0.41666667 0.29761905 0.35714286\n",
      " 0.42857143 0.38095238 0.41666667 0.7202381  0.55952381 1.\n",
      " 0.8452381  0.30952381 0.41071429 0.66666667 0.39880952 0.47619048\n",
      " 0.19642857 0.29166667 0.30952381 0.39880952 0.64285714 0.44642857\n",
      " 0.5        0.50595238 0.60119048 0.7202381  0.63690476 0.46428571\n",
      " 0.44642857 0.56547619 0.41666667 0.42857143 0.58928571 0.38095238\n",
      " 0.66666667 0.81547619 0.93452381 0.70833333 0.82142857 0.3452381\n",
      " 0.55357143 0.5952381  0.43452381 0.20238095 0.26785714 0.42261905\n",
      " 0.375      0.53571429 0.45833333 0.5        0.38095238 0.27380952\n",
      " 0.29166667 0.5297619  0.5        0.48214286 0.58333333 0.67857143\n",
      " 0.55357143 0.47619048 0.41071429 0.48809524 0.75595238 0.36904762\n",
      " 0.46428571 0.38095238 0.52380952 0.4047619  0.61309524 0.73809524\n",
      " 0.69047619 0.27380952 0.3452381  0.46428571 0.6547619  0.54166667\n",
      " 0.51190476 0.69047619 0.63095238 0.5952381  0.48809524 0.47619048\n",
      " 0.5952381  0.5        0.74404762 0.43452381 0.60714286 0.57142857\n",
      " 0.39880952 0.55357143 0.38690476 0.38690476 0.5297619  0.41666667\n",
      " 0.45833333 0.48809524 0.5        0.53571429 0.38690476 0.39880952\n",
      " 0.35119048 0.29761905 0.55357143 0.45238095 0.98809524 0.21428571\n",
      " 0.63095238 0.67857143]\n"
     ]
    }
   ],
   "source": [
    "print(\"Normalised accelaration values:\", normalized_accl_values)"
   ]
  },
  {
   "cell_type": "code",
   "execution_count": null,
   "id": "633f7ec3-3998-4921-9dc8-55a6c24639b6",
   "metadata": {},
   "outputs": [],
   "source": [
    "#5.Broadcasting Increase all horsepower values by 10% and store the updated values in a new NumPy array. Handle missing data (if any) by replacing it with the mean of the column before applying the increase."
   ]
  },
  {
   "cell_type": "code",
   "execution_count": 32,
   "id": "ca8acf80-9922-4955-9971-f867c00ba19f",
   "metadata": {},
   "outputs": [],
   "source": [
    "horse_array = np.array(data['horsepower'])"
   ]
  },
  {
   "cell_type": "code",
   "execution_count": 33,
   "id": "c6b5354a-e8c4-4a8c-ad44-715761136da9",
   "metadata": {},
   "outputs": [
    {
     "data": {
      "text/plain": [
       "mpg             0\n",
       "cylinders       0\n",
       "displacement    0\n",
       "horsepower      0\n",
       "weight          0\n",
       "acceleration    0\n",
       "model year      0\n",
       "origin          0\n",
       "car name        0\n",
       "dtype: int64"
      ]
     },
     "execution_count": 33,
     "metadata": {},
     "output_type": "execute_result"
    }
   ],
   "source": [
    "data.isna().sum()"
   ]
  },
  {
   "cell_type": "code",
   "execution_count": 34,
   "id": "ab293fc6-410c-42a4-8fc6-c12662f47f7a",
   "metadata": {},
   "outputs": [],
   "source": [
    "data['horsepower'] = pd.to_numeric(data['horsepower'], errors='coerce')"
   ]
  },
  {
   "cell_type": "code",
   "execution_count": 35,
   "id": "e446c377-4e2f-465c-ba2a-1fa679ce3aec",
   "metadata": {},
   "outputs": [],
   "source": [
    "mean_horsepower = data['horsepower'].mean()"
   ]
  },
  {
   "cell_type": "code",
   "execution_count": 36,
   "id": "a8c0eb90-263c-4296-9276-739639b666f2",
   "metadata": {},
   "outputs": [],
   "source": [
    "data['horsepower'] = data['horsepower'].fillna(mean_horsepower)"
   ]
  },
  {
   "cell_type": "code",
   "execution_count": 37,
   "id": "9494832d-73e7-45fc-8282-6c2dfc966dda",
   "metadata": {},
   "outputs": [],
   "source": [
    "updated_horsepower_array = np.array(data['horsepower'] * 1.10)"
   ]
  },
  {
   "cell_type": "code",
   "execution_count": 38,
   "id": "335c8063-795c-4947-9617-4034c417a700",
   "metadata": {},
   "outputs": [
    {
     "name": "stdout",
     "output_type": "stream",
     "text": [
      "Updated Horsepower Array: [143.         181.5        165.         165.         154.\n",
      " 217.8        242.         236.5        247.5        209.\n",
      " 187.         176.         165.         247.5        104.5\n",
      " 104.5        106.7         93.5         96.8         50.6\n",
      "  95.7         99.         104.5        124.3         99.\n",
      " 236.5        220.         231.         212.3         96.8\n",
      "  99.         104.5        114.91632653 110.         115.5\n",
      " 110.          96.8        110.         181.5        192.5\n",
      " 168.3        165.         198.         187.         192.5\n",
      " 121.          79.2        110.          96.8         94.6\n",
      "  99.          77.          83.6         71.5         75.9\n",
      "  66.          77.         104.5         88.          59.4\n",
      "  99.          94.6        181.5        192.5        165.\n",
      " 168.3        165.         228.8        170.5        176.\n",
      " 209.         106.7        165.         143.         154.\n",
      " 165.         123.2         83.6         95.7         75.9\n",
      "  94.6        101.2        106.7         88.          96.8\n",
      " 192.5        165.         159.5        150.7        165.\n",
      " 217.8        165.         173.8        165.         236.5\n",
      " 247.5        192.5        115.5        110.         110.\n",
      "  96.8        104.5         50.6        165.         183.7\n",
      " 187.         198.         110.          96.8         79.2\n",
      " 103.4         99.          93.5        117.7         99.\n",
      " 159.5        253.          53.9         82.5        100.1\n",
      " 123.2        165.         121.         134.2        198.\n",
      " 104.5        114.91632653 110.         110.          73.7\n",
      "  88.          71.5         82.5        110.         121.\n",
      " 115.5        154.         165.         165.         154.\n",
      " 165.          91.3         73.7         85.8         57.2\n",
      "  67.1         82.5         82.5         82.5        106.7\n",
      " 102.3         73.7        104.5        115.5         79.2\n",
      "  79.2        187.         159.5        165.         162.8\n",
      " 121.         115.5        121.         104.5        121.\n",
      " 121.         141.9         82.5         91.3        110.\n",
      "  85.8        105.6         78.1        106.7        106.7\n",
      "  77.          99.         104.5         96.8        107.8\n",
      " 126.5         58.3         94.6         89.1        101.2\n",
      "  86.9         91.3        154.         165.         132.\n",
      " 167.2        110.         115.5         89.1         99.\n",
      "  57.2         66.          77.          58.3        110.\n",
      "  85.8        121.         104.5         78.1         77.\n",
      "  82.5         79.2        112.2        165.          96.8\n",
      " 118.8        132.         198.         159.5        143.\n",
      " 165.          74.8         88.          63.8        105.6\n",
      "  77.         159.5        121.         159.5        143.\n",
      " 121.         115.5        110.         107.8        198.\n",
      " 187.         209.         163.9         85.8         96.8\n",
      "  82.5         97.9         69.3         91.3         73.7\n",
      "  85.8        106.7        121.         121.          52.8\n",
      "  72.6         57.2         77.          66.         121.\n",
      " 154.         152.9        115.5        104.5         93.5\n",
      "  96.8        110.          99.         115.5         93.5\n",
      " 121.         132.         159.5        181.5        152.9\n",
      " 154.          74.8        104.5        106.7         82.5\n",
      " 104.5        115.5         93.5        106.7        113.3\n",
      " 137.5        126.5        146.3         78.1         74.8\n",
      " 126.5         93.5         96.8         99.         121.\n",
      " 143.         141.9        151.8        148.5        170.5\n",
      " 156.2        137.5        165.          78.1         71.5\n",
      "  88.          88.          84.7        137.5         78.1\n",
      "  99.          77.          77.          71.5         75.9\n",
      "  99.         126.5        126.5         99.          83.6\n",
      "  66.          77.          71.5         99.          96.8\n",
      "  99.          99.          85.8         99.          82.5\n",
      " 101.2         82.5         71.5        115.5         71.5\n",
      "  52.8         52.8         73.7         73.7         73.7\n",
      " 114.91632653  73.7         68.2        145.2        110.\n",
      "  96.8        114.91632653  79.2         92.4         92.4\n",
      " 101.2        121.          92.4         63.8         70.4\n",
      "  66.          73.7         71.5         68.2         74.8\n",
      "  69.3         71.5         71.5         81.4        114.91632653\n",
      "  82.5         82.5        110.          81.4         88.\n",
      "  83.6        127.6        132.         121.         115.5\n",
      "  96.8         93.5         96.8         96.8         96.8\n",
      "  93.5         92.4         99.         101.2        114.91632653\n",
      "  81.4         74.8         74.8         69.3         77.\n",
      "  96.8         82.5         77.          73.7         73.7\n",
      "  73.7        121.          93.5        101.2        123.2\n",
      " 105.6         92.4         99.          94.6         57.2\n",
      "  92.4         86.9         90.2       ]\n"
     ]
    }
   ],
   "source": [
    "print(\"Updated Horsepower Array:\", updated_horsepower_array)"
   ]
  },
  {
   "cell_type": "code",
   "execution_count": null,
   "id": "bea0d40b-1f7c-4252-80b9-a1b22b2146fa",
   "metadata": {},
   "outputs": [],
   "source": [
    "#6.Boolean Indexing Find the average displacement of cars with an origin of 2 (Europe) using NumPy indexing."
   ]
  },
  {
   "cell_type": "code",
   "execution_count": 39,
   "id": "7d23af66-0d1c-46d3-abac-d8b314b33f52",
   "metadata": {},
   "outputs": [],
   "source": [
    "displacement_array = np.array(data['displacement'])"
   ]
  },
  {
   "cell_type": "code",
   "execution_count": 40,
   "id": "a3ed7a41-a8b2-44f2-95df-2a1946a40665",
   "metadata": {},
   "outputs": [],
   "source": [
    "origin_array = np.array(data['origin'])"
   ]
  },
  {
   "cell_type": "code",
   "execution_count": 41,
   "id": "04b0c8e9-2246-4f8b-a7bf-3c524614638b",
   "metadata": {},
   "outputs": [],
   "source": [
    "origin_array1 = origin_array==2"
   ]
  },
  {
   "cell_type": "code",
   "execution_count": 42,
   "id": "c13f578f-6c3a-449e-9041-84ede1f92308",
   "metadata": {},
   "outputs": [],
   "source": [
    "displacement = displacement_array[origin_array1]"
   ]
  },
  {
   "cell_type": "code",
   "execution_count": 43,
   "id": "f07ccbba-0f59-4d08-a6b7-3bf37b2df493",
   "metadata": {},
   "outputs": [
    {
     "data": {
      "text/plain": [
       "np.float64(109.14285714285714)"
      ]
     },
     "execution_count": 43,
     "metadata": {},
     "output_type": "execute_result"
    }
   ],
   "source": [
    "np.mean(displacement)"
   ]
  },
  {
   "cell_type": "code",
   "execution_count": null,
   "id": "9a8077f4-62cf-46be-af60-73ebf0815a11",
   "metadata": {},
   "outputs": [],
   "source": [
    "#7.Matrix Operations Create a 2D NumPy array containing the columns mpg, horsepower, and weight. Compute the dot product of this matrix with a given vector [1, 0.5, -0.2]."
   ]
  },
  {
   "cell_type": "code",
   "execution_count": 44,
   "id": "eb3d55f8-842f-4e16-b5af-a9bae0f24ef8",
   "metadata": {},
   "outputs": [],
   "source": [
    "data3 = np.array(data[['mpg', 'horsepower', 'weight']])"
   ]
  },
  {
   "cell_type": "code",
   "execution_count": 45,
   "id": "89f15a21-54ab-43e9-bab4-63c2b8f7c736",
   "metadata": {},
   "outputs": [],
   "source": [
    "vector = np.array([1, 0.5, -0.2])"
   ]
  },
  {
   "cell_type": "code",
   "execution_count": 46,
   "id": "acc87187-e9b8-476c-8060-100145321ebc",
   "metadata": {},
   "outputs": [],
   "source": [
    "dot_product = np.dot(data3, vector)"
   ]
  },
  {
   "cell_type": "code",
   "execution_count": 47,
   "id": "ef87c4e1-2297-4f5a-8f78-138787964b65",
   "metadata": {},
   "outputs": [
    {
     "data": {
      "text/plain": [
       "array([-617.8       , -641.1       , -594.2       , -595.6       ,\n",
       "       -602.8       , -754.2       , -746.8       , -740.9       ,\n",
       "       -758.5       , -660.        , -612.6       , -627.8       ,\n",
       "       -662.2       , -490.7       , -402.9       , -497.1       ,\n",
       "       -488.3       , -453.9       , -355.        , -318.        ,\n",
       "       -465.9       , -417.        , -402.5       , -364.3       ,\n",
       "       -463.6       , -805.5       , -765.2       , -760.4       ,\n",
       "       -840.9       , -355.        , -379.8       , -373.1       ,\n",
       "       -331.96530612, -457.8       , -619.3       , -598.8       ,\n",
       "       -597.4       , -589.6       , -745.3       , -791.3       ,\n",
       "       -740.3       , -730.2       , -889.        , -851.2       ,\n",
       "       -927.5       , -519.4       , -423.6       , -587.4       ,\n",
       "       -565.8       , -378.        , -351.6       , -349.8       ,\n",
       "       -345.        , -291.1       , -253.1       , -309.8       ,\n",
       "       -330.        , -384.1       , -360.2       , -400.8       ,\n",
       "       -416.6       , -381.2       , -759.3       , -775.5       ,\n",
       "       -737.        , -735.3       , -642.4       , -811.6       ,\n",
       "       -809.9       , -799.2       , -776.4       , -398.5       ,\n",
       "       -688.4       , -741.6       , -775.8       , -726.4       ,\n",
       "       -512.6       , -442.2       , -531.3       , -377.3       ,\n",
       "       -414.        , -383.6       , -429.7       , -364.8       ,\n",
       "       -349.        , -719.5       , -645.4       , -712.1       ,\n",
       "       -725.9       , -665.4       , -879.4       , -804.8       ,\n",
       "       -780.6       , -758.4       , -826.5       , -865.7       ,\n",
       "       -663.7       , -553.7       , -589.6       , -521.        ,\n",
       "       -542.2       , -510.3       , -341.        , -913.4       ,\n",
       "       -885.7       , -832.8       , -797.8       , -489.8       ,\n",
       "       -391.8       , -423.2       , -406.8       , -361.8       ,\n",
       "       -400.5       , -419.9       , -382.        , -728.9       ,\n",
       "       -724.6       , -319.9       , -370.1       , -450.9       ,\n",
       "       -498.6       , -589.8       , -453.        , -480.4       ,\n",
       "       -631.8       , -552.9       , -501.76530612, -511.2       ,\n",
       "       -602.2       , -325.5       , -424.2       , -302.7       ,\n",
       "       -445.9       , -690.2       , -655.4       , -652.1       ,\n",
       "       -742.2       , -851.8       , -802.4       , -843.6       ,\n",
       "       -762.4       , -373.3       , -333.1       , -395.        ,\n",
       "       -272.8       , -338.1       , -359.5       , -360.1       ,\n",
       "       -385.7       , -425.3       , -405.7       , -335.5       ,\n",
       "       -586.3       , -621.3       , -635.4       , -580.6       ,\n",
       "       -832.6       , -800.5       , -808.6       , -843.4       ,\n",
       "       -709.4       , -710.9       , -676.        , -691.5       ,\n",
       "       -531.8       , -569.2       , -556.3       , -367.7       ,\n",
       "       -463.3       , -512.8       , -456.4       , -468.4       ,\n",
       "       -384.1       , -436.5       , -530.3       , -323.4       ,\n",
       "       -578.2       , -468.3       , -524.4       , -518.        ,\n",
       "       -451.7       , -299.5       , -421.8       , -378.5       ,\n",
       "       -443.4       , -385.5       , -371.9       , -755.5       ,\n",
       "       -747.        , -716.9       , -752.5       , -574.6       ,\n",
       "       -596.1       , -537.9       , -549.5       , -352.        ,\n",
       "       -378.3       , -323.4       , -299.5       , -660.2       ,\n",
       "       -657.8       , -655.5       , -573.6       , -300.        ,\n",
       "       -331.        , -365.5       , -450.5       , -559.        ,\n",
       "       -700.        , -591.        , -513.        , -687.5       ,\n",
       "       -769.5       , -725.5       , -696.        , -663.        ,\n",
       "       -343.5       , -361.        , -300.        , -386.5       ,\n",
       "       -320.5       , -686.        , -740.        , -740.        ,\n",
       "       -779.        , -631.5       , -612.        , -657.        ,\n",
       "       -637.5       , -738.        , -732.5       , -754.5       ,\n",
       "       -776.5       , -320.        , -479.5       , -389.5       ,\n",
       "       -481.        , -348.2       , -340.        , -333.5       ,\n",
       "       -368.5       , -492.5       , -443.5       , -467.5       ,\n",
       "       -329.9       , -290.9       , -338.2       , -339.6       ,\n",
       "       -293.9       , -598.1       , -657.6       , -624.3       ,\n",
       "       -635.3       , -563.        , -530.3       , -474.9       ,\n",
       "       -615.5       , -577.6       , -602.9       , -550.7       ,\n",
       "       -650.4       , -603.9       , -593.3       , -588.8       ,\n",
       "       -553.4       , -728.5       , -367.        , -437.        ,\n",
       "       -384.3       , -377.6       , -434.4       , -473.3       ,\n",
       "       -504.7       , -408.6       , -494.2       , -548.5       ,\n",
       "       -479.9       , -599.3       , -331.        , -363.5       ,\n",
       "       -570.        , -535.7       , -511.7       , -587.8       ,\n",
       "       -596.4       , -686.        , -662.9       , -705.5       ,\n",
       "       -680.3       , -777.6       , -724.3       , -639.3       ,\n",
       "       -694.5       , -317.6       , -328.4       , -307.3       ,\n",
       "       -466.6       , -642.1       , -694.5       , -575.3       ,\n",
       "       -615.1       , -370.8       , -360.5       , -339.7       ,\n",
       "       -354.2       , -460.6       , -432.7       , -455.7       ,\n",
       "       -432.7       , -349.3       , -325.5       , -356.9       ,\n",
       "       -334.1       , -462.6       , -503.6       , -531.3       ,\n",
       "       -612.1       , -364.3       , -467.4       , -439.6       ,\n",
       "       -403.8       , -383.3       , -342.9       , -479.6       ,\n",
       "       -348.7       , -348.7       , -399.6       , -520.1       ,\n",
       "       -586.5       , -291.9       , -273.86530612, -361.7       ,\n",
       "       -308.2       , -483.3       , -410.3       , -421.        ,\n",
       "       -505.16530612, -389.6       , -428.8       , -458.4       ,\n",
       "       -452.2       , -466.5       , -405.        , -282.9       ,\n",
       "       -304.        , -286.9       , -347.2       , -325.5       ,\n",
       "       -341.3       , -328.9       , -376.8       , -342.1       ,\n",
       "       -413.6       , -368.        , -377.26530612, -370.8       ,\n",
       "       -400.1       , -440.1       , -458.4       , -577.9       ,\n",
       "       -563.3       , -496.6       , -501.8       , -605.6       ,\n",
       "       -665.9       , -547.8       , -632.9       , -449.        ,\n",
       "       -457.        , -401.        , -441.5       , -434.        ,\n",
       "       -475.        , -503.        , -531.76530612, -323.        ,\n",
       "       -334.        , -329.        , -355.5       , -354.        ,\n",
       "       -352.        , -367.5       , -380.        , -321.5       ,\n",
       "       -327.5       , -327.5       , -509.        , -522.5       ,\n",
       "       -445.        , -489.        , -453.        , -396.        ,\n",
       "       -518.        , -488.        , -356.        , -385.        ,\n",
       "       -457.5       , -472.        ])"
      ]
     },
     "execution_count": 47,
     "metadata": {},
     "output_type": "execute_result"
    }
   ],
   "source": [
    "dot_product"
   ]
  },
  {
   "cell_type": "code",
   "execution_count": null,
   "id": "8cab6107-16fd-4647-b308-f306c1794e89",
   "metadata": {},
   "outputs": [],
   "source": [
    "#8.Sorting Use NumPy to sort the cars by model_year in descending order and display the first five car names."
   ]
  },
  {
   "cell_type": "code",
   "execution_count": 48,
   "id": "e16f98d5-2124-4ba3-bf05-3d46ab45ca3a",
   "metadata": {},
   "outputs": [],
   "source": [
    "data4 = data.sort_values(by=['model year'], ascending = False)"
   ]
  },
  {
   "cell_type": "code",
   "execution_count": 49,
   "id": "c9038251-0595-407e-abbc-25b00febdde1",
   "metadata": {},
   "outputs": [
    {
     "data": {
      "text/html": [
       "<div>\n",
       "<style scoped>\n",
       "    .dataframe tbody tr th:only-of-type {\n",
       "        vertical-align: middle;\n",
       "    }\n",
       "\n",
       "    .dataframe tbody tr th {\n",
       "        vertical-align: top;\n",
       "    }\n",
       "\n",
       "    .dataframe thead th {\n",
       "        text-align: right;\n",
       "    }\n",
       "</style>\n",
       "<table border=\"1\" class=\"dataframe\">\n",
       "  <thead>\n",
       "    <tr style=\"text-align: right;\">\n",
       "      <th></th>\n",
       "      <th>mpg</th>\n",
       "      <th>cylinders</th>\n",
       "      <th>displacement</th>\n",
       "      <th>horsepower</th>\n",
       "      <th>weight</th>\n",
       "      <th>acceleration</th>\n",
       "      <th>model year</th>\n",
       "      <th>origin</th>\n",
       "      <th>car name</th>\n",
       "    </tr>\n",
       "  </thead>\n",
       "  <tbody>\n",
       "    <tr>\n",
       "      <th>397</th>\n",
       "      <td>31.0</td>\n",
       "      <td>4</td>\n",
       "      <td>119.0</td>\n",
       "      <td>82.0</td>\n",
       "      <td>2720</td>\n",
       "      <td>19.4</td>\n",
       "      <td>82</td>\n",
       "      <td>1</td>\n",
       "      <td>chevy s-10</td>\n",
       "    </tr>\n",
       "    <tr>\n",
       "      <th>396</th>\n",
       "      <td>28.0</td>\n",
       "      <td>4</td>\n",
       "      <td>120.0</td>\n",
       "      <td>79.0</td>\n",
       "      <td>2625</td>\n",
       "      <td>18.6</td>\n",
       "      <td>82</td>\n",
       "      <td>1</td>\n",
       "      <td>ford ranger</td>\n",
       "    </tr>\n",
       "    <tr>\n",
       "      <th>395</th>\n",
       "      <td>32.0</td>\n",
       "      <td>4</td>\n",
       "      <td>135.0</td>\n",
       "      <td>84.0</td>\n",
       "      <td>2295</td>\n",
       "      <td>11.6</td>\n",
       "      <td>82</td>\n",
       "      <td>1</td>\n",
       "      <td>dodge rampage</td>\n",
       "    </tr>\n",
       "    <tr>\n",
       "      <th>394</th>\n",
       "      <td>44.0</td>\n",
       "      <td>4</td>\n",
       "      <td>97.0</td>\n",
       "      <td>52.0</td>\n",
       "      <td>2130</td>\n",
       "      <td>24.6</td>\n",
       "      <td>82</td>\n",
       "      <td>2</td>\n",
       "      <td>vw pickup</td>\n",
       "    </tr>\n",
       "    <tr>\n",
       "      <th>393</th>\n",
       "      <td>27.0</td>\n",
       "      <td>4</td>\n",
       "      <td>140.0</td>\n",
       "      <td>86.0</td>\n",
       "      <td>2790</td>\n",
       "      <td>15.6</td>\n",
       "      <td>82</td>\n",
       "      <td>1</td>\n",
       "      <td>ford mustang gl</td>\n",
       "    </tr>\n",
       "    <tr>\n",
       "      <th>...</th>\n",
       "      <td>...</td>\n",
       "      <td>...</td>\n",
       "      <td>...</td>\n",
       "      <td>...</td>\n",
       "      <td>...</td>\n",
       "      <td>...</td>\n",
       "      <td>...</td>\n",
       "      <td>...</td>\n",
       "      <td>...</td>\n",
       "    </tr>\n",
       "    <tr>\n",
       "      <th>4</th>\n",
       "      <td>17.0</td>\n",
       "      <td>8</td>\n",
       "      <td>302.0</td>\n",
       "      <td>140.0</td>\n",
       "      <td>3449</td>\n",
       "      <td>10.5</td>\n",
       "      <td>70</td>\n",
       "      <td>1</td>\n",
       "      <td>ford torino</td>\n",
       "    </tr>\n",
       "    <tr>\n",
       "      <th>3</th>\n",
       "      <td>16.0</td>\n",
       "      <td>8</td>\n",
       "      <td>304.0</td>\n",
       "      <td>150.0</td>\n",
       "      <td>3433</td>\n",
       "      <td>12.0</td>\n",
       "      <td>70</td>\n",
       "      <td>1</td>\n",
       "      <td>amc rebel sst</td>\n",
       "    </tr>\n",
       "    <tr>\n",
       "      <th>2</th>\n",
       "      <td>18.0</td>\n",
       "      <td>8</td>\n",
       "      <td>318.0</td>\n",
       "      <td>150.0</td>\n",
       "      <td>3436</td>\n",
       "      <td>11.0</td>\n",
       "      <td>70</td>\n",
       "      <td>1</td>\n",
       "      <td>plymouth satellite</td>\n",
       "    </tr>\n",
       "    <tr>\n",
       "      <th>1</th>\n",
       "      <td>15.0</td>\n",
       "      <td>8</td>\n",
       "      <td>350.0</td>\n",
       "      <td>165.0</td>\n",
       "      <td>3693</td>\n",
       "      <td>11.5</td>\n",
       "      <td>70</td>\n",
       "      <td>1</td>\n",
       "      <td>buick skylark 320</td>\n",
       "    </tr>\n",
       "    <tr>\n",
       "      <th>0</th>\n",
       "      <td>18.0</td>\n",
       "      <td>8</td>\n",
       "      <td>307.0</td>\n",
       "      <td>130.0</td>\n",
       "      <td>3504</td>\n",
       "      <td>12.0</td>\n",
       "      <td>70</td>\n",
       "      <td>1</td>\n",
       "      <td>chevrolet chevelle malibu</td>\n",
       "    </tr>\n",
       "  </tbody>\n",
       "</table>\n",
       "<p>398 rows × 9 columns</p>\n",
       "</div>"
      ],
      "text/plain": [
       "      mpg  cylinders  displacement  horsepower  weight  acceleration  \\\n",
       "397  31.0          4         119.0        82.0    2720          19.4   \n",
       "396  28.0          4         120.0        79.0    2625          18.6   \n",
       "395  32.0          4         135.0        84.0    2295          11.6   \n",
       "394  44.0          4          97.0        52.0    2130          24.6   \n",
       "393  27.0          4         140.0        86.0    2790          15.6   \n",
       "..    ...        ...           ...         ...     ...           ...   \n",
       "4    17.0          8         302.0       140.0    3449          10.5   \n",
       "3    16.0          8         304.0       150.0    3433          12.0   \n",
       "2    18.0          8         318.0       150.0    3436          11.0   \n",
       "1    15.0          8         350.0       165.0    3693          11.5   \n",
       "0    18.0          8         307.0       130.0    3504          12.0   \n",
       "\n",
       "     model year  origin                   car name  \n",
       "397          82       1                 chevy s-10  \n",
       "396          82       1                ford ranger  \n",
       "395          82       1              dodge rampage  \n",
       "394          82       2                  vw pickup  \n",
       "393          82       1            ford mustang gl  \n",
       "..          ...     ...                        ...  \n",
       "4            70       1                ford torino  \n",
       "3            70       1              amc rebel sst  \n",
       "2            70       1         plymouth satellite  \n",
       "1            70       1          buick skylark 320  \n",
       "0            70       1  chevrolet chevelle malibu  \n",
       "\n",
       "[398 rows x 9 columns]"
      ]
     },
     "execution_count": 49,
     "metadata": {},
     "output_type": "execute_result"
    }
   ],
   "source": [
    "data4"
   ]
  },
  {
   "cell_type": "code",
   "execution_count": 50,
   "id": "952d5ca0-825d-4c79-bf67-18d983a04838",
   "metadata": {},
   "outputs": [],
   "source": [
    "data5 = data4.head(5)"
   ]
  },
  {
   "cell_type": "code",
   "execution_count": 51,
   "id": "f2ef997d-f301-4c9d-b995-2324927cd35b",
   "metadata": {},
   "outputs": [
    {
     "name": "stdout",
     "output_type": "stream",
     "text": [
      "First Five Cars:\n",
      "      mpg  cylinders  displacement  horsepower  weight  acceleration  \\\n",
      "397  31.0          4         119.0        82.0    2720          19.4   \n",
      "396  28.0          4         120.0        79.0    2625          18.6   \n",
      "395  32.0          4         135.0        84.0    2295          11.6   \n",
      "394  44.0          4          97.0        52.0    2130          24.6   \n",
      "393  27.0          4         140.0        86.0    2790          15.6   \n",
      "\n",
      "     model year  origin         car name  \n",
      "397          82       1       chevy s-10  \n",
      "396          82       1      ford ranger  \n",
      "395          82       1    dodge rampage  \n",
      "394          82       2        vw pickup  \n",
      "393          82       1  ford mustang gl  \n"
     ]
    }
   ],
   "source": [
    "print(\"First Five Cars:\") \n",
    "print(data5)"
   ]
  },
  {
   "cell_type": "code",
   "execution_count": 52,
   "id": "dc99a745-7b5e-41a1-9f56-974f3de05d4d",
   "metadata": {},
   "outputs": [
    {
     "data": {
      "text/plain": [
       "397         chevy s-10\n",
       "396        ford ranger\n",
       "395      dodge rampage\n",
       "394          vw pickup\n",
       "393    ford mustang gl\n",
       "Name: car name, dtype: object"
      ]
     },
     "execution_count": 52,
     "metadata": {},
     "output_type": "execute_result"
    }
   ],
   "source": [
    "data5['car name'].head(5)"
   ]
  },
  {
   "cell_type": "code",
   "execution_count": null,
   "id": "aa50a66a-e49a-464d-a43f-98ed06d08041",
   "metadata": {},
   "outputs": [],
   "source": [
    "#9.Correlation Compute the Pearson correlation coefficient between mpg and weight using NumPy."
   ]
  },
  {
   "cell_type": "code",
   "execution_count": 53,
   "id": "07e03951-ec3e-461d-97a5-c01891014eb7",
   "metadata": {},
   "outputs": [],
   "source": [
    "correlation = np.corrcoef(mpg_array, weight_array)[0,1]"
   ]
  },
  {
   "cell_type": "code",
   "execution_count": 54,
   "id": "f98c7b1f-8354-4690-af86-bc5257de1f49",
   "metadata": {},
   "outputs": [
    {
     "name": "stdout",
     "output_type": "stream",
     "text": [
      "Pearson Correlation Coefficient: -0.8317409332443354\n"
     ]
    }
   ],
   "source": [
    "print(\"Pearson Correlation Coefficient:\", correlation)"
   ]
  },
  {
   "cell_type": "code",
   "execution_count": null,
   "id": "e32f88b9-9640-452b-8b1b-101d13b269df",
   "metadata": {},
   "outputs": [],
   "source": [
    "#10.Conditional Aggregates Calculate the mean mpg for cars grouped by the number of cylinders using NumPy techniques."
   ]
  },
  {
   "cell_type": "code",
   "execution_count": 55,
   "id": "8c2e775f-e384-4576-acb3-b51000145cf6",
   "metadata": {},
   "outputs": [],
   "source": [
    "cylinders_array = np.array(data['cylinders'])"
   ]
  },
  {
   "cell_type": "code",
   "execution_count": 56,
   "id": "2ed1bc2a-264e-4b82-a220-4c61dfbeffef",
   "metadata": {},
   "outputs": [],
   "source": [
    "unique_cylinders = np.unique(cylinders_array)"
   ]
  },
  {
   "cell_type": "code",
   "execution_count": 57,
   "id": "9103669a-7fb0-40fb-903c-4be0b87c6704",
   "metadata": {},
   "outputs": [
    {
     "data": {
      "text/plain": [
       "array([3, 4, 5, 6, 8])"
      ]
     },
     "execution_count": 57,
     "metadata": {},
     "output_type": "execute_result"
    }
   ],
   "source": [
    "unique_cylinders"
   ]
  },
  {
   "cell_type": "code",
   "execution_count": 58,
   "id": "6b56be50-9dae-4a36-a874-a593451940b6",
   "metadata": {},
   "outputs": [],
   "source": [
    "mean_mpg_per_cylinder = {mpg_array[cylinders_array == unique_cylinders].mean() for unique_cylinders in unique_cylinders}"
   ]
  },
  {
   "cell_type": "code",
   "execution_count": 59,
   "id": "4fe798d8-5082-41e4-9e45-41019b635e62",
   "metadata": {},
   "outputs": [
    {
     "name": "stdout",
     "output_type": "stream",
     "text": [
      "Mean MPG by Number of Cylinders:\n",
      "{np.float64(14.963106796116506), np.float64(19.985714285714284), np.float64(20.55), np.float64(27.366666666666664), np.float64(29.28676470588235)}\n"
     ]
    }
   ],
   "source": [
    "print(\"Mean MPG by Number of Cylinders:\")\n",
    "print(mean_mpg_per_cylinder)\n"
   ]
  },
  {
   "cell_type": "code",
   "execution_count": 60,
   "id": "3d396fae-7704-4c98-8e7a-1df0275fc123",
   "metadata": {},
   "outputs": [],
   "source": [
    "mean_mpg_per_cylinder = data.groupby('cylinders')['mpg'].mean() # or way"
   ]
  },
  {
   "cell_type": "code",
   "execution_count": 61,
   "id": "ee515018-3ba8-4dad-9f9d-b258e34bd0f5",
   "metadata": {},
   "outputs": [
    {
     "data": {
      "text/plain": [
       "cylinders\n",
       "3    20.550000\n",
       "4    29.286765\n",
       "5    27.366667\n",
       "6    19.985714\n",
       "8    14.963107\n",
       "Name: mpg, dtype: float64"
      ]
     },
     "execution_count": 61,
     "metadata": {},
     "output_type": "execute_result"
    }
   ],
   "source": [
    "mean_mpg_per_cylinder"
   ]
  },
  {
   "cell_type": "code",
   "execution_count": 64,
   "id": "a97b513a-5a0b-4474-8e90-a0bee0035ddc",
   "metadata": {},
   "outputs": [],
   "source": [
    "file = pd.read_csv(r\"C:\\Users\\Admin\\Downloads\\auto-mpg.csv\")"
   ]
  },
  {
   "cell_type": "code",
   "execution_count": null,
   "id": "7aa2629c-a95b-41e5-8fb6-af4245d90a82",
   "metadata": {},
   "outputs": [],
   "source": [
    "#1.Basic Exploration Load the dataset into a Pandas DataFrame. Display: ○ The first 10 rows ○ The total number of rows and columns ○ Summary statistics for numerical columns"
   ]
  },
  {
   "cell_type": "code",
   "execution_count": 65,
   "id": "b78e2e7f-9265-4108-bc8d-41415847e2a0",
   "metadata": {},
   "outputs": [
    {
     "data": {
      "text/html": [
       "<div>\n",
       "<style scoped>\n",
       "    .dataframe tbody tr th:only-of-type {\n",
       "        vertical-align: middle;\n",
       "    }\n",
       "\n",
       "    .dataframe tbody tr th {\n",
       "        vertical-align: top;\n",
       "    }\n",
       "\n",
       "    .dataframe thead th {\n",
       "        text-align: right;\n",
       "    }\n",
       "</style>\n",
       "<table border=\"1\" class=\"dataframe\">\n",
       "  <thead>\n",
       "    <tr style=\"text-align: right;\">\n",
       "      <th></th>\n",
       "      <th>mpg</th>\n",
       "      <th>cylinders</th>\n",
       "      <th>displacement</th>\n",
       "      <th>horsepower</th>\n",
       "      <th>weight</th>\n",
       "      <th>acceleration</th>\n",
       "      <th>model year</th>\n",
       "      <th>origin</th>\n",
       "      <th>car name</th>\n",
       "    </tr>\n",
       "  </thead>\n",
       "  <tbody>\n",
       "    <tr>\n",
       "      <th>0</th>\n",
       "      <td>18.0</td>\n",
       "      <td>8</td>\n",
       "      <td>307.0</td>\n",
       "      <td>130</td>\n",
       "      <td>3504</td>\n",
       "      <td>12.0</td>\n",
       "      <td>70</td>\n",
       "      <td>1</td>\n",
       "      <td>chevrolet chevelle malibu</td>\n",
       "    </tr>\n",
       "    <tr>\n",
       "      <th>1</th>\n",
       "      <td>15.0</td>\n",
       "      <td>8</td>\n",
       "      <td>350.0</td>\n",
       "      <td>165</td>\n",
       "      <td>3693</td>\n",
       "      <td>11.5</td>\n",
       "      <td>70</td>\n",
       "      <td>1</td>\n",
       "      <td>buick skylark 320</td>\n",
       "    </tr>\n",
       "    <tr>\n",
       "      <th>2</th>\n",
       "      <td>18.0</td>\n",
       "      <td>8</td>\n",
       "      <td>318.0</td>\n",
       "      <td>150</td>\n",
       "      <td>3436</td>\n",
       "      <td>11.0</td>\n",
       "      <td>70</td>\n",
       "      <td>1</td>\n",
       "      <td>plymouth satellite</td>\n",
       "    </tr>\n",
       "    <tr>\n",
       "      <th>3</th>\n",
       "      <td>16.0</td>\n",
       "      <td>8</td>\n",
       "      <td>304.0</td>\n",
       "      <td>150</td>\n",
       "      <td>3433</td>\n",
       "      <td>12.0</td>\n",
       "      <td>70</td>\n",
       "      <td>1</td>\n",
       "      <td>amc rebel sst</td>\n",
       "    </tr>\n",
       "    <tr>\n",
       "      <th>4</th>\n",
       "      <td>17.0</td>\n",
       "      <td>8</td>\n",
       "      <td>302.0</td>\n",
       "      <td>140</td>\n",
       "      <td>3449</td>\n",
       "      <td>10.5</td>\n",
       "      <td>70</td>\n",
       "      <td>1</td>\n",
       "      <td>ford torino</td>\n",
       "    </tr>\n",
       "    <tr>\n",
       "      <th>5</th>\n",
       "      <td>15.0</td>\n",
       "      <td>8</td>\n",
       "      <td>429.0</td>\n",
       "      <td>198</td>\n",
       "      <td>4341</td>\n",
       "      <td>10.0</td>\n",
       "      <td>70</td>\n",
       "      <td>1</td>\n",
       "      <td>ford galaxie 500</td>\n",
       "    </tr>\n",
       "    <tr>\n",
       "      <th>6</th>\n",
       "      <td>14.0</td>\n",
       "      <td>8</td>\n",
       "      <td>454.0</td>\n",
       "      <td>220</td>\n",
       "      <td>4354</td>\n",
       "      <td>9.0</td>\n",
       "      <td>70</td>\n",
       "      <td>1</td>\n",
       "      <td>chevrolet impala</td>\n",
       "    </tr>\n",
       "    <tr>\n",
       "      <th>7</th>\n",
       "      <td>14.0</td>\n",
       "      <td>8</td>\n",
       "      <td>440.0</td>\n",
       "      <td>215</td>\n",
       "      <td>4312</td>\n",
       "      <td>8.5</td>\n",
       "      <td>70</td>\n",
       "      <td>1</td>\n",
       "      <td>plymouth fury iii</td>\n",
       "    </tr>\n",
       "    <tr>\n",
       "      <th>8</th>\n",
       "      <td>14.0</td>\n",
       "      <td>8</td>\n",
       "      <td>455.0</td>\n",
       "      <td>225</td>\n",
       "      <td>4425</td>\n",
       "      <td>10.0</td>\n",
       "      <td>70</td>\n",
       "      <td>1</td>\n",
       "      <td>pontiac catalina</td>\n",
       "    </tr>\n",
       "    <tr>\n",
       "      <th>9</th>\n",
       "      <td>15.0</td>\n",
       "      <td>8</td>\n",
       "      <td>390.0</td>\n",
       "      <td>190</td>\n",
       "      <td>3850</td>\n",
       "      <td>8.5</td>\n",
       "      <td>70</td>\n",
       "      <td>1</td>\n",
       "      <td>amc ambassador dpl</td>\n",
       "    </tr>\n",
       "  </tbody>\n",
       "</table>\n",
       "</div>"
      ],
      "text/plain": [
       "    mpg  cylinders  displacement horsepower  weight  acceleration  model year  \\\n",
       "0  18.0          8         307.0        130    3504          12.0          70   \n",
       "1  15.0          8         350.0        165    3693          11.5          70   \n",
       "2  18.0          8         318.0        150    3436          11.0          70   \n",
       "3  16.0          8         304.0        150    3433          12.0          70   \n",
       "4  17.0          8         302.0        140    3449          10.5          70   \n",
       "5  15.0          8         429.0        198    4341          10.0          70   \n",
       "6  14.0          8         454.0        220    4354           9.0          70   \n",
       "7  14.0          8         440.0        215    4312           8.5          70   \n",
       "8  14.0          8         455.0        225    4425          10.0          70   \n",
       "9  15.0          8         390.0        190    3850           8.5          70   \n",
       "\n",
       "   origin                   car name  \n",
       "0       1  chevrolet chevelle malibu  \n",
       "1       1          buick skylark 320  \n",
       "2       1         plymouth satellite  \n",
       "3       1              amc rebel sst  \n",
       "4       1                ford torino  \n",
       "5       1           ford galaxie 500  \n",
       "6       1           chevrolet impala  \n",
       "7       1          plymouth fury iii  \n",
       "8       1           pontiac catalina  \n",
       "9       1         amc ambassador dpl  "
      ]
     },
     "execution_count": 65,
     "metadata": {},
     "output_type": "execute_result"
    }
   ],
   "source": [
    "file.head(10)"
   ]
  },
  {
   "cell_type": "code",
   "execution_count": 66,
   "id": "25b8ecc9-ae68-4785-9889-be1ff87ede98",
   "metadata": {},
   "outputs": [
    {
     "data": {
      "text/plain": [
       "(398, 9)"
      ]
     },
     "execution_count": 66,
     "metadata": {},
     "output_type": "execute_result"
    }
   ],
   "source": [
    "file.shape"
   ]
  },
  {
   "cell_type": "code",
   "execution_count": 67,
   "id": "a1900c95-30d9-4711-a482-d9839241505a",
   "metadata": {},
   "outputs": [
    {
     "data": {
      "text/html": [
       "<div>\n",
       "<style scoped>\n",
       "    .dataframe tbody tr th:only-of-type {\n",
       "        vertical-align: middle;\n",
       "    }\n",
       "\n",
       "    .dataframe tbody tr th {\n",
       "        vertical-align: top;\n",
       "    }\n",
       "\n",
       "    .dataframe thead th {\n",
       "        text-align: right;\n",
       "    }\n",
       "</style>\n",
       "<table border=\"1\" class=\"dataframe\">\n",
       "  <thead>\n",
       "    <tr style=\"text-align: right;\">\n",
       "      <th></th>\n",
       "      <th>mpg</th>\n",
       "      <th>cylinders</th>\n",
       "      <th>displacement</th>\n",
       "      <th>weight</th>\n",
       "      <th>acceleration</th>\n",
       "      <th>model year</th>\n",
       "      <th>origin</th>\n",
       "    </tr>\n",
       "  </thead>\n",
       "  <tbody>\n",
       "    <tr>\n",
       "      <th>count</th>\n",
       "      <td>398.000000</td>\n",
       "      <td>398.000000</td>\n",
       "      <td>398.000000</td>\n",
       "      <td>398.000000</td>\n",
       "      <td>398.000000</td>\n",
       "      <td>398.000000</td>\n",
       "      <td>398.000000</td>\n",
       "    </tr>\n",
       "    <tr>\n",
       "      <th>mean</th>\n",
       "      <td>23.514573</td>\n",
       "      <td>5.454774</td>\n",
       "      <td>193.425879</td>\n",
       "      <td>2970.424623</td>\n",
       "      <td>15.568090</td>\n",
       "      <td>76.010050</td>\n",
       "      <td>1.572864</td>\n",
       "    </tr>\n",
       "    <tr>\n",
       "      <th>std</th>\n",
       "      <td>7.815984</td>\n",
       "      <td>1.701004</td>\n",
       "      <td>104.269838</td>\n",
       "      <td>846.841774</td>\n",
       "      <td>2.757689</td>\n",
       "      <td>3.697627</td>\n",
       "      <td>0.802055</td>\n",
       "    </tr>\n",
       "    <tr>\n",
       "      <th>min</th>\n",
       "      <td>9.000000</td>\n",
       "      <td>3.000000</td>\n",
       "      <td>68.000000</td>\n",
       "      <td>1613.000000</td>\n",
       "      <td>8.000000</td>\n",
       "      <td>70.000000</td>\n",
       "      <td>1.000000</td>\n",
       "    </tr>\n",
       "    <tr>\n",
       "      <th>25%</th>\n",
       "      <td>17.500000</td>\n",
       "      <td>4.000000</td>\n",
       "      <td>104.250000</td>\n",
       "      <td>2223.750000</td>\n",
       "      <td>13.825000</td>\n",
       "      <td>73.000000</td>\n",
       "      <td>1.000000</td>\n",
       "    </tr>\n",
       "    <tr>\n",
       "      <th>50%</th>\n",
       "      <td>23.000000</td>\n",
       "      <td>4.000000</td>\n",
       "      <td>148.500000</td>\n",
       "      <td>2803.500000</td>\n",
       "      <td>15.500000</td>\n",
       "      <td>76.000000</td>\n",
       "      <td>1.000000</td>\n",
       "    </tr>\n",
       "    <tr>\n",
       "      <th>75%</th>\n",
       "      <td>29.000000</td>\n",
       "      <td>8.000000</td>\n",
       "      <td>262.000000</td>\n",
       "      <td>3608.000000</td>\n",
       "      <td>17.175000</td>\n",
       "      <td>79.000000</td>\n",
       "      <td>2.000000</td>\n",
       "    </tr>\n",
       "    <tr>\n",
       "      <th>max</th>\n",
       "      <td>46.600000</td>\n",
       "      <td>8.000000</td>\n",
       "      <td>455.000000</td>\n",
       "      <td>5140.000000</td>\n",
       "      <td>24.800000</td>\n",
       "      <td>82.000000</td>\n",
       "      <td>3.000000</td>\n",
       "    </tr>\n",
       "  </tbody>\n",
       "</table>\n",
       "</div>"
      ],
      "text/plain": [
       "              mpg   cylinders  displacement       weight  acceleration  \\\n",
       "count  398.000000  398.000000    398.000000   398.000000    398.000000   \n",
       "mean    23.514573    5.454774    193.425879  2970.424623     15.568090   \n",
       "std      7.815984    1.701004    104.269838   846.841774      2.757689   \n",
       "min      9.000000    3.000000     68.000000  1613.000000      8.000000   \n",
       "25%     17.500000    4.000000    104.250000  2223.750000     13.825000   \n",
       "50%     23.000000    4.000000    148.500000  2803.500000     15.500000   \n",
       "75%     29.000000    8.000000    262.000000  3608.000000     17.175000   \n",
       "max     46.600000    8.000000    455.000000  5140.000000     24.800000   \n",
       "\n",
       "       model year      origin  \n",
       "count  398.000000  398.000000  \n",
       "mean    76.010050    1.572864  \n",
       "std      3.697627    0.802055  \n",
       "min     70.000000    1.000000  \n",
       "25%     73.000000    1.000000  \n",
       "50%     76.000000    1.000000  \n",
       "75%     79.000000    2.000000  \n",
       "max     82.000000    3.000000  "
      ]
     },
     "execution_count": 67,
     "metadata": {},
     "output_type": "execute_result"
    }
   ],
   "source": [
    "file.describe()"
   ]
  },
  {
   "cell_type": "code",
   "execution_count": null,
   "id": "c2b80cd3-0dbc-42e5-b0d4-30442964f632",
   "metadata": {},
   "outputs": [],
   "source": [
    "#2.Filtering and Indexing Find all cars manufactured in 1975 with a weight less than 3000. Return the DataFrame with selected columns: car_name, weight, and mpg.\n"
   ]
  },
  {
   "cell_type": "code",
   "execution_count": 68,
   "id": "a9f5190f-965b-4b5b-80ca-24d34c6aa06e",
   "metadata": {},
   "outputs": [],
   "source": [
    "file1 = file[(file['model year']==75) & (file['weight'] < 3000)]"
   ]
  },
  {
   "cell_type": "code",
   "execution_count": 69,
   "id": "75525cfc-0cab-4c56-b753-407852920b79",
   "metadata": {},
   "outputs": [],
   "source": [
    "file2 = file1[['car name', 'weight', 'mpg']] "
   ]
  },
  {
   "cell_type": "code",
   "execution_count": 70,
   "id": "fd07ef5b-f99c-4ea6-a32f-b2739aa12747",
   "metadata": {},
   "outputs": [
    {
     "name": "stdout",
     "output_type": "stream",
     "text": [
      "File2:\n",
      "              car name  weight   mpg\n",
      "167     toyota corolla    2171  29.0\n",
      "168         ford pinto    2639  23.0\n",
      "169        amc gremlin    2914  20.0\n",
      "170      pontiac astro    2592  23.0\n",
      "171      toyota corona    2702  24.0\n",
      "172  volkswagen dasher    2223  25.0\n",
      "173         datsun 710    2545  24.0\n",
      "174         ford pinto    2984  18.0\n",
      "175  volkswagen rabbit    1937  29.0\n",
      "177         audi 100ls    2694  23.0\n",
      "178        peugeot 504    2957  23.0\n",
      "179        volvo 244dl    2945  22.0\n",
      "180          saab 99le    2671  25.0\n",
      "181   honda civic cvcc    1795  33.0\n"
     ]
    }
   ],
   "source": [
    "print(\"File2:\")\n",
    "print(file2)"
   ]
  },
  {
   "cell_type": "code",
   "execution_count": null,
   "id": "2e2ebf52-e076-488f-8459-b4b84d9f8370",
   "metadata": {},
   "outputs": [],
   "source": [
    "#3.Handling Missing Data Identify if there are any missing values in the dataset. Replace missing values in the horsepower column with the column's median."
   ]
  },
  {
   "cell_type": "code",
   "execution_count": 71,
   "id": "3a999565-6c4d-4d16-bec4-46794da2578f",
   "metadata": {},
   "outputs": [
    {
     "data": {
      "text/plain": [
       "mpg             0\n",
       "cylinders       0\n",
       "displacement    0\n",
       "horsepower      0\n",
       "weight          0\n",
       "acceleration    0\n",
       "model year      0\n",
       "origin          0\n",
       "car name        0\n",
       "dtype: int64"
      ]
     },
     "execution_count": 71,
     "metadata": {},
     "output_type": "execute_result"
    }
   ],
   "source": [
    "file.isna().sum()"
   ]
  },
  {
   "cell_type": "code",
   "execution_count": 72,
   "id": "2e5d9853-da86-45bb-ac30-a927da67ed5d",
   "metadata": {},
   "outputs": [],
   "source": [
    "file['horsepower'] = pd.to_numeric(file['horsepower'], errors='coerce')"
   ]
  },
  {
   "cell_type": "code",
   "execution_count": 73,
   "id": "1ec8e3a9-4077-4b37-a424-73afd21273e2",
   "metadata": {},
   "outputs": [],
   "source": [
    "median_horsepower = file['horsepower'].median()"
   ]
  },
  {
   "cell_type": "code",
   "execution_count": 74,
   "id": "dadd83dd-953f-4770-9358-e77142b65161",
   "metadata": {},
   "outputs": [
    {
     "data": {
      "text/plain": [
       "np.float64(93.5)"
      ]
     },
     "execution_count": 74,
     "metadata": {},
     "output_type": "execute_result"
    }
   ],
   "source": [
    "median_horsepower"
   ]
  },
  {
   "cell_type": "code",
   "execution_count": 75,
   "id": "8106cb6d-bd3f-4bdb-b537-fd7fad21573a",
   "metadata": {},
   "outputs": [],
   "source": [
    "file4 = file['horsepower'].fillna(median_horsepower)"
   ]
  },
  {
   "cell_type": "code",
   "execution_count": 76,
   "id": "d550a3f3-e6d1-4927-9ecc-80a01611e884",
   "metadata": {},
   "outputs": [
    {
     "data": {
      "text/plain": [
       "0      130.0\n",
       "1      165.0\n",
       "2      150.0\n",
       "3      150.0\n",
       "4      140.0\n",
       "       ...  \n",
       "393     86.0\n",
       "394     52.0\n",
       "395     84.0\n",
       "396     79.0\n",
       "397     82.0\n",
       "Name: horsepower, Length: 398, dtype: float64"
      ]
     },
     "execution_count": 76,
     "metadata": {},
     "output_type": "execute_result"
    }
   ],
   "source": [
    "file4"
   ]
  },
  {
   "cell_type": "code",
   "execution_count": null,
   "id": "220dfd08-a69a-4bdb-b4da-4022d8bd93f2",
   "metadata": {},
   "outputs": [],
   "source": [
    "#4.Data Transformation Add a new column power_to_weight_ratio, calculated as horsepower / weight."
   ]
  },
  {
   "cell_type": "code",
   "execution_count": 77,
   "id": "ff4eeff2-5431-411d-92c3-ac7b83447032",
   "metadata": {},
   "outputs": [],
   "source": [
    "file['horsepower'] = pd.to_numeric(file['horsepower'], errors='coerce')"
   ]
  },
  {
   "cell_type": "code",
   "execution_count": 78,
   "id": "186feaad-7360-4f15-95c3-f038a1dd72f0",
   "metadata": {},
   "outputs": [],
   "source": [
    "file['power_to_weight_ratio'] = file['horsepower'] / file['weight']"
   ]
  },
  {
   "cell_type": "code",
   "execution_count": 79,
   "id": "c8346c89-2abd-4f03-a03a-d8c7dc5ac80d",
   "metadata": {},
   "outputs": [
    {
     "data": {
      "text/html": [
       "<div>\n",
       "<style scoped>\n",
       "    .dataframe tbody tr th:only-of-type {\n",
       "        vertical-align: middle;\n",
       "    }\n",
       "\n",
       "    .dataframe tbody tr th {\n",
       "        vertical-align: top;\n",
       "    }\n",
       "\n",
       "    .dataframe thead th {\n",
       "        text-align: right;\n",
       "    }\n",
       "</style>\n",
       "<table border=\"1\" class=\"dataframe\">\n",
       "  <thead>\n",
       "    <tr style=\"text-align: right;\">\n",
       "      <th></th>\n",
       "      <th>mpg</th>\n",
       "      <th>cylinders</th>\n",
       "      <th>displacement</th>\n",
       "      <th>horsepower</th>\n",
       "      <th>weight</th>\n",
       "      <th>acceleration</th>\n",
       "      <th>model year</th>\n",
       "      <th>origin</th>\n",
       "      <th>car name</th>\n",
       "      <th>power_to_weight_ratio</th>\n",
       "    </tr>\n",
       "  </thead>\n",
       "  <tbody>\n",
       "    <tr>\n",
       "      <th>0</th>\n",
       "      <td>18.0</td>\n",
       "      <td>8</td>\n",
       "      <td>307.0</td>\n",
       "      <td>130.0</td>\n",
       "      <td>3504</td>\n",
       "      <td>12.0</td>\n",
       "      <td>70</td>\n",
       "      <td>1</td>\n",
       "      <td>chevrolet chevelle malibu</td>\n",
       "      <td>0.037100</td>\n",
       "    </tr>\n",
       "    <tr>\n",
       "      <th>1</th>\n",
       "      <td>15.0</td>\n",
       "      <td>8</td>\n",
       "      <td>350.0</td>\n",
       "      <td>165.0</td>\n",
       "      <td>3693</td>\n",
       "      <td>11.5</td>\n",
       "      <td>70</td>\n",
       "      <td>1</td>\n",
       "      <td>buick skylark 320</td>\n",
       "      <td>0.044679</td>\n",
       "    </tr>\n",
       "    <tr>\n",
       "      <th>2</th>\n",
       "      <td>18.0</td>\n",
       "      <td>8</td>\n",
       "      <td>318.0</td>\n",
       "      <td>150.0</td>\n",
       "      <td>3436</td>\n",
       "      <td>11.0</td>\n",
       "      <td>70</td>\n",
       "      <td>1</td>\n",
       "      <td>plymouth satellite</td>\n",
       "      <td>0.043655</td>\n",
       "    </tr>\n",
       "    <tr>\n",
       "      <th>3</th>\n",
       "      <td>16.0</td>\n",
       "      <td>8</td>\n",
       "      <td>304.0</td>\n",
       "      <td>150.0</td>\n",
       "      <td>3433</td>\n",
       "      <td>12.0</td>\n",
       "      <td>70</td>\n",
       "      <td>1</td>\n",
       "      <td>amc rebel sst</td>\n",
       "      <td>0.043694</td>\n",
       "    </tr>\n",
       "    <tr>\n",
       "      <th>4</th>\n",
       "      <td>17.0</td>\n",
       "      <td>8</td>\n",
       "      <td>302.0</td>\n",
       "      <td>140.0</td>\n",
       "      <td>3449</td>\n",
       "      <td>10.5</td>\n",
       "      <td>70</td>\n",
       "      <td>1</td>\n",
       "      <td>ford torino</td>\n",
       "      <td>0.040591</td>\n",
       "    </tr>\n",
       "  </tbody>\n",
       "</table>\n",
       "</div>"
      ],
      "text/plain": [
       "    mpg  cylinders  displacement  horsepower  weight  acceleration  \\\n",
       "0  18.0          8         307.0       130.0    3504          12.0   \n",
       "1  15.0          8         350.0       165.0    3693          11.5   \n",
       "2  18.0          8         318.0       150.0    3436          11.0   \n",
       "3  16.0          8         304.0       150.0    3433          12.0   \n",
       "4  17.0          8         302.0       140.0    3449          10.5   \n",
       "\n",
       "   model year  origin                   car name  power_to_weight_ratio  \n",
       "0          70       1  chevrolet chevelle malibu               0.037100  \n",
       "1          70       1          buick skylark 320               0.044679  \n",
       "2          70       1         plymouth satellite               0.043655  \n",
       "3          70       1              amc rebel sst               0.043694  \n",
       "4          70       1                ford torino               0.040591  "
      ]
     },
     "execution_count": 79,
     "metadata": {},
     "output_type": "execute_result"
    }
   ],
   "source": [
    "file.head()"
   ]
  },
  {
   "cell_type": "code",
   "execution_count": null,
   "id": "2de9d47c-59f8-4def-bcc0-125ce84e412a",
   "metadata": {},
   "outputs": [],
   "source": [
    "#5.Group By Group the cars by origin and calculate the mean mpg for each group."
   ]
  },
  {
   "cell_type": "code",
   "execution_count": 80,
   "id": "393292f8-8ea5-438a-85a9-5b5afaac83b6",
   "metadata": {},
   "outputs": [],
   "source": [
    "file5 = file.groupby('origin')"
   ]
  },
  {
   "cell_type": "code",
   "execution_count": 81,
   "id": "7a6e8193-3fa8-415e-bda1-8bba209e528a",
   "metadata": {},
   "outputs": [
    {
     "data": {
      "text/plain": [
       "origin\n",
       "1    20.083534\n",
       "2    27.891429\n",
       "3    30.450633\n",
       "Name: mpg, dtype: float64"
      ]
     },
     "execution_count": 81,
     "metadata": {},
     "output_type": "execute_result"
    }
   ],
   "source": [
    "file5['mpg'].mean()"
   ]
  },
  {
   "cell_type": "code",
   "execution_count": null,
   "id": "9a15a864-b1fe-4a87-b310-415710e1b03b",
   "metadata": {},
   "outputs": [],
   "source": [
    "#6.Sorting Sort the DataFrame by mpg in descending order and display the top 10 cars with the highest mpg."
   ]
  },
  {
   "cell_type": "code",
   "execution_count": 82,
   "id": "1326b2aa-be0c-4d37-8b01-b0b7ea6b77d7",
   "metadata": {},
   "outputs": [],
   "source": [
    "file6 = file.sort_values(by=['mpg'], ascending = False)"
   ]
  },
  {
   "cell_type": "code",
   "execution_count": 83,
   "id": "348156ea-c896-4e39-9bcb-10726e420e78",
   "metadata": {},
   "outputs": [
    {
     "data": {
      "text/html": [
       "<div>\n",
       "<style scoped>\n",
       "    .dataframe tbody tr th:only-of-type {\n",
       "        vertical-align: middle;\n",
       "    }\n",
       "\n",
       "    .dataframe tbody tr th {\n",
       "        vertical-align: top;\n",
       "    }\n",
       "\n",
       "    .dataframe thead th {\n",
       "        text-align: right;\n",
       "    }\n",
       "</style>\n",
       "<table border=\"1\" class=\"dataframe\">\n",
       "  <thead>\n",
       "    <tr style=\"text-align: right;\">\n",
       "      <th></th>\n",
       "      <th>car name</th>\n",
       "      <th>mpg</th>\n",
       "    </tr>\n",
       "  </thead>\n",
       "  <tbody>\n",
       "    <tr>\n",
       "      <th>322</th>\n",
       "      <td>mazda glc</td>\n",
       "      <td>46.6</td>\n",
       "    </tr>\n",
       "    <tr>\n",
       "      <th>329</th>\n",
       "      <td>honda civic 1500 gl</td>\n",
       "      <td>44.6</td>\n",
       "    </tr>\n",
       "    <tr>\n",
       "      <th>325</th>\n",
       "      <td>vw rabbit c (diesel)</td>\n",
       "      <td>44.3</td>\n",
       "    </tr>\n",
       "    <tr>\n",
       "      <th>394</th>\n",
       "      <td>vw pickup</td>\n",
       "      <td>44.0</td>\n",
       "    </tr>\n",
       "    <tr>\n",
       "      <th>326</th>\n",
       "      <td>vw dasher (diesel)</td>\n",
       "      <td>43.4</td>\n",
       "    </tr>\n",
       "    <tr>\n",
       "      <th>244</th>\n",
       "      <td>volkswagen rabbit custom diesel</td>\n",
       "      <td>43.1</td>\n",
       "    </tr>\n",
       "    <tr>\n",
       "      <th>309</th>\n",
       "      <td>vw rabbit</td>\n",
       "      <td>41.5</td>\n",
       "    </tr>\n",
       "    <tr>\n",
       "      <th>330</th>\n",
       "      <td>renault lecar deluxe</td>\n",
       "      <td>40.9</td>\n",
       "    </tr>\n",
       "    <tr>\n",
       "      <th>324</th>\n",
       "      <td>datsun 210</td>\n",
       "      <td>40.8</td>\n",
       "    </tr>\n",
       "    <tr>\n",
       "      <th>247</th>\n",
       "      <td>datsun b210 gx</td>\n",
       "      <td>39.4</td>\n",
       "    </tr>\n",
       "  </tbody>\n",
       "</table>\n",
       "</div>"
      ],
      "text/plain": [
       "                            car name   mpg\n",
       "322                        mazda glc  46.6\n",
       "329              honda civic 1500 gl  44.6\n",
       "325             vw rabbit c (diesel)  44.3\n",
       "394                        vw pickup  44.0\n",
       "326               vw dasher (diesel)  43.4\n",
       "244  volkswagen rabbit custom diesel  43.1\n",
       "309                        vw rabbit  41.5\n",
       "330             renault lecar deluxe  40.9\n",
       "324                       datsun 210  40.8\n",
       "247                   datsun b210 gx  39.4"
      ]
     },
     "execution_count": 83,
     "metadata": {},
     "output_type": "execute_result"
    }
   ],
   "source": [
    "file6[['car name', 'mpg']].head(10)"
   ]
  },
  {
   "cell_type": "code",
   "execution_count": null,
   "id": "03698257-25e5-4112-bf45-d3ff73b5a9ff",
   "metadata": {},
   "outputs": [],
   "source": [
    "#7.Apply this function to each row and store the result in the new column.\n",
    "#Apply Function Create a new column performance_score using a custom function: def performance_score(row): return row['mpg'] * row['acceleration'] / row['weight']"
   ]
  },
  {
   "cell_type": "code",
   "execution_count": 84,
   "id": "52779652-d82e-49a9-a5ff-744463a3b404",
   "metadata": {},
   "outputs": [],
   "source": [
    "def performance_score(row):\n",
    "    return row['mpg'] * row['acceleration'] / row['weight']"
   ]
  },
  {
   "cell_type": "code",
   "execution_count": 85,
   "id": "fb39d785-c477-49f7-aca8-52d8ba5f3d16",
   "metadata": {},
   "outputs": [],
   "source": [
    "file['performance_score'] = file.apply(performance_score, axis=1)"
   ]
  },
  {
   "cell_type": "code",
   "execution_count": 86,
   "id": "e5f015ac-6b10-45c2-9388-eb9c885c7853",
   "metadata": {},
   "outputs": [
    {
     "data": {
      "text/plain": [
       "0      0.061644\n",
       "1      0.046710\n",
       "2      0.057625\n",
       "3      0.055928\n",
       "4      0.051754\n",
       "         ...   \n",
       "393    0.150968\n",
       "394    0.508169\n",
       "395    0.161743\n",
       "396    0.198400\n",
       "397    0.221103\n",
       "Name: performance_score, Length: 398, dtype: float64"
      ]
     },
     "execution_count": 86,
     "metadata": {},
     "output_type": "execute_result"
    }
   ],
   "source": [
    "file['performance_score']"
   ]
  },
  {
   "cell_type": "code",
   "execution_count": 87,
   "id": "5d87435b-b930-416c-b0ad-6ed7aa8ab8b1",
   "metadata": {},
   "outputs": [
    {
     "name": "stdout",
     "output_type": "stream",
     "text": [
      "                      car name  performance_score\n",
      "0    chevrolet chevelle malibu           0.061644\n",
      "1            buick skylark 320           0.046710\n",
      "2           plymouth satellite           0.057625\n",
      "3                amc rebel sst           0.055928\n",
      "4                  ford torino           0.051754\n",
      "..                         ...                ...\n",
      "393            ford mustang gl           0.150968\n",
      "394                  vw pickup           0.508169\n",
      "395              dodge rampage           0.161743\n",
      "396                ford ranger           0.198400\n",
      "397                 chevy s-10           0.221103\n",
      "\n",
      "[398 rows x 2 columns]\n"
     ]
    }
   ],
   "source": [
    "print(file[['car name', 'performance_score']])"
   ]
  },
  {
   "cell_type": "code",
   "execution_count": null,
   "id": "ed3b17af-2af6-4731-bd04-a0296d54fc4e",
   "metadata": {},
   "outputs": [],
   "source": [
    "#8.Visualization Preparation Generate a summary DataFrame with: ○ Average mpg, weight, and horsepower for each model_year."
   ]
  },
  {
   "cell_type": "code",
   "execution_count": 88,
   "id": "f86b96e3-5674-4846-beb3-26e03fef537e",
   "metadata": {},
   "outputs": [],
   "source": [
    "file['horsepower'] = pd.to_numeric(file['horsepower'], errors='coerce')"
   ]
  },
  {
   "cell_type": "code",
   "execution_count": 89,
   "id": "c2762cf3-49a6-48cf-8efe-e77c95c40ccf",
   "metadata": {},
   "outputs": [],
   "source": [
    "file7 = file.groupby('model year')"
   ]
  },
  {
   "cell_type": "code",
   "execution_count": 90,
   "id": "bc685c7f-656d-45ec-8fdb-b3af45027a6a",
   "metadata": {},
   "outputs": [],
   "source": [
    "Average_file7 = file7[['mpg', 'weight', 'horsepower']].mean()"
   ]
  },
  {
   "cell_type": "code",
   "execution_count": 91,
   "id": "f507dff9-24c0-4103-b8df-b0084d24ce27",
   "metadata": {},
   "outputs": [],
   "source": [
    "file8 = pd.DataFrame(Average_file7)"
   ]
  },
  {
   "cell_type": "code",
   "execution_count": 92,
   "id": "b23ac667-2b49-434e-8019-bd02c27f899e",
   "metadata": {},
   "outputs": [
    {
     "data": {
      "text/html": [
       "<div>\n",
       "<style scoped>\n",
       "    .dataframe tbody tr th:only-of-type {\n",
       "        vertical-align: middle;\n",
       "    }\n",
       "\n",
       "    .dataframe tbody tr th {\n",
       "        vertical-align: top;\n",
       "    }\n",
       "\n",
       "    .dataframe thead th {\n",
       "        text-align: right;\n",
       "    }\n",
       "</style>\n",
       "<table border=\"1\" class=\"dataframe\">\n",
       "  <thead>\n",
       "    <tr style=\"text-align: right;\">\n",
       "      <th></th>\n",
       "      <th>mpg</th>\n",
       "      <th>weight</th>\n",
       "      <th>horsepower</th>\n",
       "    </tr>\n",
       "    <tr>\n",
       "      <th>model year</th>\n",
       "      <th></th>\n",
       "      <th></th>\n",
       "      <th></th>\n",
       "    </tr>\n",
       "  </thead>\n",
       "  <tbody>\n",
       "    <tr>\n",
       "      <th>70</th>\n",
       "      <td>17.689655</td>\n",
       "      <td>3372.793103</td>\n",
       "      <td>147.827586</td>\n",
       "    </tr>\n",
       "    <tr>\n",
       "      <th>71</th>\n",
       "      <td>21.250000</td>\n",
       "      <td>2995.428571</td>\n",
       "      <td>107.037037</td>\n",
       "    </tr>\n",
       "    <tr>\n",
       "      <th>72</th>\n",
       "      <td>18.714286</td>\n",
       "      <td>3237.714286</td>\n",
       "      <td>120.178571</td>\n",
       "    </tr>\n",
       "    <tr>\n",
       "      <th>73</th>\n",
       "      <td>17.100000</td>\n",
       "      <td>3419.025000</td>\n",
       "      <td>130.475000</td>\n",
       "    </tr>\n",
       "    <tr>\n",
       "      <th>74</th>\n",
       "      <td>22.703704</td>\n",
       "      <td>2877.925926</td>\n",
       "      <td>94.230769</td>\n",
       "    </tr>\n",
       "    <tr>\n",
       "      <th>75</th>\n",
       "      <td>20.266667</td>\n",
       "      <td>3176.800000</td>\n",
       "      <td>101.066667</td>\n",
       "    </tr>\n",
       "    <tr>\n",
       "      <th>76</th>\n",
       "      <td>21.573529</td>\n",
       "      <td>3078.735294</td>\n",
       "      <td>101.117647</td>\n",
       "    </tr>\n",
       "    <tr>\n",
       "      <th>77</th>\n",
       "      <td>23.375000</td>\n",
       "      <td>2997.357143</td>\n",
       "      <td>105.071429</td>\n",
       "    </tr>\n",
       "    <tr>\n",
       "      <th>78</th>\n",
       "      <td>24.061111</td>\n",
       "      <td>2861.805556</td>\n",
       "      <td>99.694444</td>\n",
       "    </tr>\n",
       "    <tr>\n",
       "      <th>79</th>\n",
       "      <td>25.093103</td>\n",
       "      <td>3055.344828</td>\n",
       "      <td>101.206897</td>\n",
       "    </tr>\n",
       "    <tr>\n",
       "      <th>80</th>\n",
       "      <td>33.696552</td>\n",
       "      <td>2436.655172</td>\n",
       "      <td>77.481481</td>\n",
       "    </tr>\n",
       "    <tr>\n",
       "      <th>81</th>\n",
       "      <td>30.334483</td>\n",
       "      <td>2522.931034</td>\n",
       "      <td>81.035714</td>\n",
       "    </tr>\n",
       "    <tr>\n",
       "      <th>82</th>\n",
       "      <td>31.709677</td>\n",
       "      <td>2453.548387</td>\n",
       "      <td>81.466667</td>\n",
       "    </tr>\n",
       "  </tbody>\n",
       "</table>\n",
       "</div>"
      ],
      "text/plain": [
       "                  mpg       weight  horsepower\n",
       "model year                                    \n",
       "70          17.689655  3372.793103  147.827586\n",
       "71          21.250000  2995.428571  107.037037\n",
       "72          18.714286  3237.714286  120.178571\n",
       "73          17.100000  3419.025000  130.475000\n",
       "74          22.703704  2877.925926   94.230769\n",
       "75          20.266667  3176.800000  101.066667\n",
       "76          21.573529  3078.735294  101.117647\n",
       "77          23.375000  2997.357143  105.071429\n",
       "78          24.061111  2861.805556   99.694444\n",
       "79          25.093103  3055.344828  101.206897\n",
       "80          33.696552  2436.655172   77.481481\n",
       "81          30.334483  2522.931034   81.035714\n",
       "82          31.709677  2453.548387   81.466667"
      ]
     },
     "execution_count": 92,
     "metadata": {},
     "output_type": "execute_result"
    }
   ],
   "source": [
    "file8"
   ]
  },
  {
   "cell_type": "code",
   "execution_count": null,
   "id": "467061db-8527-46e5-a63e-080378da3b45",
   "metadata": {},
   "outputs": [],
   "source": [
    "#9.Exporting Data Save a subset of the data containing only mpg, cylinders, horsepower, and weight for cars with mpg > 30 into a CSV file named high_mpg_cars.csv"
   ]
  },
  {
   "cell_type": "code",
   "execution_count": 93,
   "id": "c6919d11-c55c-4a17-9ee4-aa13a018239e",
   "metadata": {},
   "outputs": [],
   "source": [
    "file8 = file['mpg'] > 30"
   ]
  },
  {
   "cell_type": "code",
   "execution_count": 94,
   "id": "cb33c2e8-4d99-4f6c-b635-da1e15d860ea",
   "metadata": {},
   "outputs": [],
   "source": [
    "high_mpg_cars = file[file8][['mpg', 'cylinders', 'horsepower', 'weight']]"
   ]
  },
  {
   "cell_type": "code",
   "execution_count": 95,
   "id": "b4dc50b4-f958-4e08-b0b6-42a7f588847a",
   "metadata": {},
   "outputs": [],
   "source": [
    "high_mpg_cars.to_csv(\"high_mpg_cars.csv\")"
   ]
  },
  {
   "cell_type": "code",
   "execution_count": 96,
   "id": "92744b04-48ef-4e44-9b58-2ffcf9cab3f0",
   "metadata": {},
   "outputs": [
    {
     "data": {
      "text/html": [
       "<div>\n",
       "<style scoped>\n",
       "    .dataframe tbody tr th:only-of-type {\n",
       "        vertical-align: middle;\n",
       "    }\n",
       "\n",
       "    .dataframe tbody tr th {\n",
       "        vertical-align: top;\n",
       "    }\n",
       "\n",
       "    .dataframe thead th {\n",
       "        text-align: right;\n",
       "    }\n",
       "</style>\n",
       "<table border=\"1\" class=\"dataframe\">\n",
       "  <thead>\n",
       "    <tr style=\"text-align: right;\">\n",
       "      <th></th>\n",
       "      <th>mpg</th>\n",
       "      <th>cylinders</th>\n",
       "      <th>horsepower</th>\n",
       "      <th>weight</th>\n",
       "    </tr>\n",
       "  </thead>\n",
       "  <tbody>\n",
       "    <tr>\n",
       "      <th>53</th>\n",
       "      <td>31.0</td>\n",
       "      <td>4</td>\n",
       "      <td>65.0</td>\n",
       "      <td>1773</td>\n",
       "    </tr>\n",
       "    <tr>\n",
       "      <th>54</th>\n",
       "      <td>35.0</td>\n",
       "      <td>4</td>\n",
       "      <td>69.0</td>\n",
       "      <td>1613</td>\n",
       "    </tr>\n",
       "    <tr>\n",
       "      <th>129</th>\n",
       "      <td>31.0</td>\n",
       "      <td>4</td>\n",
       "      <td>67.0</td>\n",
       "      <td>1950</td>\n",
       "    </tr>\n",
       "    <tr>\n",
       "      <th>131</th>\n",
       "      <td>32.0</td>\n",
       "      <td>4</td>\n",
       "      <td>65.0</td>\n",
       "      <td>1836</td>\n",
       "    </tr>\n",
       "    <tr>\n",
       "      <th>144</th>\n",
       "      <td>31.0</td>\n",
       "      <td>4</td>\n",
       "      <td>52.0</td>\n",
       "      <td>1649</td>\n",
       "    </tr>\n",
       "    <tr>\n",
       "      <th>...</th>\n",
       "      <td>...</td>\n",
       "      <td>...</td>\n",
       "      <td>...</td>\n",
       "      <td>...</td>\n",
       "    </tr>\n",
       "    <tr>\n",
       "      <th>390</th>\n",
       "      <td>32.0</td>\n",
       "      <td>4</td>\n",
       "      <td>96.0</td>\n",
       "      <td>2665</td>\n",
       "    </tr>\n",
       "    <tr>\n",
       "      <th>391</th>\n",
       "      <td>36.0</td>\n",
       "      <td>4</td>\n",
       "      <td>84.0</td>\n",
       "      <td>2370</td>\n",
       "    </tr>\n",
       "    <tr>\n",
       "      <th>394</th>\n",
       "      <td>44.0</td>\n",
       "      <td>4</td>\n",
       "      <td>52.0</td>\n",
       "      <td>2130</td>\n",
       "    </tr>\n",
       "    <tr>\n",
       "      <th>395</th>\n",
       "      <td>32.0</td>\n",
       "      <td>4</td>\n",
       "      <td>84.0</td>\n",
       "      <td>2295</td>\n",
       "    </tr>\n",
       "    <tr>\n",
       "      <th>397</th>\n",
       "      <td>31.0</td>\n",
       "      <td>4</td>\n",
       "      <td>82.0</td>\n",
       "      <td>2720</td>\n",
       "    </tr>\n",
       "  </tbody>\n",
       "</table>\n",
       "<p>85 rows × 4 columns</p>\n",
       "</div>"
      ],
      "text/plain": [
       "      mpg  cylinders  horsepower  weight\n",
       "53   31.0          4        65.0    1773\n",
       "54   35.0          4        69.0    1613\n",
       "129  31.0          4        67.0    1950\n",
       "131  32.0          4        65.0    1836\n",
       "144  31.0          4        52.0    1649\n",
       "..    ...        ...         ...     ...\n",
       "390  32.0          4        96.0    2665\n",
       "391  36.0          4        84.0    2370\n",
       "394  44.0          4        52.0    2130\n",
       "395  32.0          4        84.0    2295\n",
       "397  31.0          4        82.0    2720\n",
       "\n",
       "[85 rows x 4 columns]"
      ]
     },
     "execution_count": 96,
     "metadata": {},
     "output_type": "execute_result"
    }
   ],
   "source": [
    "high_mpg_cars"
   ]
  },
  {
   "cell_type": "code",
   "execution_count": null,
   "id": "71f6aa9f-5dd9-4f63-8cf7-f5ca9a68bdf1",
   "metadata": {},
   "outputs": [],
   "source": [
    "#10.Finding Anomalies Identify potential outliers in the mpg column using the Interquartile Range (IQR) method. Specifically: ● Calculate the IQR for mpg. ● Define outliers as values less than Q1 - 1.5 * IQR or greater than Q3 +\n",
    "5 * IQR. ● Create a DataFrame of cars classified as outliers, displaying car_name, mpg, and model_year"
   ]
  },
  {
   "cell_type": "code",
   "execution_count": 97,
   "id": "40b27793-2f91-48c5-a70d-e24c8943dee2",
   "metadata": {},
   "outputs": [],
   "source": [
    "Q1 = file['mpg'].quantile(0.25)"
   ]
  },
  {
   "cell_type": "code",
   "execution_count": 98,
   "id": "5f67632a-a997-4cea-93ab-f9dc0b316ed9",
   "metadata": {},
   "outputs": [
    {
     "data": {
      "text/plain": [
       "np.float64(17.5)"
      ]
     },
     "execution_count": 98,
     "metadata": {},
     "output_type": "execute_result"
    }
   ],
   "source": [
    "Q1"
   ]
  },
  {
   "cell_type": "code",
   "execution_count": 99,
   "id": "acb8acf5-2856-46ac-b46c-5a4f42d584a3",
   "metadata": {},
   "outputs": [],
   "source": [
    "Q3 = file['mpg'].quantile(0.75)"
   ]
  },
  {
   "cell_type": "code",
   "execution_count": 100,
   "id": "e22021c3-4e5f-4898-ae9d-51f7d8e92962",
   "metadata": {},
   "outputs": [
    {
     "data": {
      "text/plain": [
       "np.float64(29.0)"
      ]
     },
     "execution_count": 100,
     "metadata": {},
     "output_type": "execute_result"
    }
   ],
   "source": [
    "Q3"
   ]
  },
  {
   "cell_type": "code",
   "execution_count": 101,
   "id": "296b58e5-38ba-4ebf-ae95-852ed5848ff4",
   "metadata": {},
   "outputs": [],
   "source": [
    "IQR = Q3 - Q1"
   ]
  },
  {
   "cell_type": "code",
   "execution_count": 102,
   "id": "e5e259f0-2502-4146-a773-2b0bf973454f",
   "metadata": {},
   "outputs": [
    {
     "name": "stdout",
     "output_type": "stream",
     "text": [
      "IQR for mpg: 11.5\n"
     ]
    }
   ],
   "source": [
    "print(\"IQR for mpg:\", IQR)"
   ]
  },
  {
   "cell_type": "code",
   "execution_count": 103,
   "id": "6864dd3e-3520-4f4a-95b6-5ea7f6628b61",
   "metadata": {},
   "outputs": [],
   "source": [
    "lower_bound = Q1 - 1.5 * IQR"
   ]
  },
  {
   "cell_type": "code",
   "execution_count": 104,
   "id": "cba70556-1e62-478e-ade6-2d15e733cea6",
   "metadata": {},
   "outputs": [
    {
     "data": {
      "text/plain": [
       "np.float64(0.25)"
      ]
     },
     "execution_count": 104,
     "metadata": {},
     "output_type": "execute_result"
    }
   ],
   "source": [
    "lower_bound"
   ]
  },
  {
   "cell_type": "code",
   "execution_count": 105,
   "id": "14b4edfb-528a-4b96-8033-9648bc13378f",
   "metadata": {},
   "outputs": [],
   "source": [
    "upper_bound = Q3 + 1.5 * IQR"
   ]
  },
  {
   "cell_type": "code",
   "execution_count": 106,
   "id": "37aba627-8f7e-4377-a93f-b05adeb2c1a6",
   "metadata": {},
   "outputs": [],
   "source": [
    "outliers = file[(file['mpg'] < lower_bound) | (file['mpg'] > upper_bound)]"
   ]
  },
  {
   "cell_type": "code",
   "execution_count": 107,
   "id": "a16cceee-d9d5-4a8d-b633-14ff9148f6a2",
   "metadata": {},
   "outputs": [
    {
     "data": {
      "text/html": [
       "<div>\n",
       "<style scoped>\n",
       "    .dataframe tbody tr th:only-of-type {\n",
       "        vertical-align: middle;\n",
       "    }\n",
       "\n",
       "    .dataframe tbody tr th {\n",
       "        vertical-align: top;\n",
       "    }\n",
       "\n",
       "    .dataframe thead th {\n",
       "        text-align: right;\n",
       "    }\n",
       "</style>\n",
       "<table border=\"1\" class=\"dataframe\">\n",
       "  <thead>\n",
       "    <tr style=\"text-align: right;\">\n",
       "      <th></th>\n",
       "      <th>car name</th>\n",
       "      <th>mpg</th>\n",
       "      <th>model year</th>\n",
       "    </tr>\n",
       "  </thead>\n",
       "  <tbody>\n",
       "    <tr>\n",
       "      <th>322</th>\n",
       "      <td>mazda glc</td>\n",
       "      <td>46.6</td>\n",
       "      <td>80</td>\n",
       "    </tr>\n",
       "  </tbody>\n",
       "</table>\n",
       "</div>"
      ],
      "text/plain": [
       "      car name   mpg  model year\n",
       "322  mazda glc  46.6          80"
      ]
     },
     "execution_count": 107,
     "metadata": {},
     "output_type": "execute_result"
    }
   ],
   "source": [
    "outliers[['car name', 'mpg', 'model year']]"
   ]
  },
  {
   "cell_type": "code",
   "execution_count": null,
   "id": "c1d6c3b3-b636-4d53-857b-863162e8178b",
   "metadata": {},
   "outputs": [],
   "source": []
  }
 ],
 "metadata": {
  "kernelspec": {
   "display_name": "Python 3 (ipykernel)",
   "language": "python",
   "name": "python3"
  },
  "language_info": {
   "codemirror_mode": {
    "name": "ipython",
    "version": 3
   },
   "file_extension": ".py",
   "mimetype": "text/x-python",
   "name": "python",
   "nbconvert_exporter": "python",
   "pygments_lexer": "ipython3",
   "version": "3.13.2"
  }
 },
 "nbformat": 4,
 "nbformat_minor": 5
}
